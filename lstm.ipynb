{
 "cells": [
  {
   "metadata": {},
   "cell_type": "markdown",
   "source": "# 1. Imports",
   "id": "658ab9633714ef4a"
  },
  {
   "cell_type": "code",
   "execution_count": 1,
   "id": "aae806b8-f91a-4dde-a817-7a7b842ec3d6",
   "metadata": {
    "collapsed": true,
    "jupyter": {
     "outputs_hidden": true
    },
    "tags": []
   },
   "outputs": [
    {
     "name": "stderr",
     "output_type": "stream",
     "text": [
      "2025-03-22 15:42:05.118019: I tensorflow/core/util/port.cc:110] oneDNN custom operations are on. You may see slightly different numerical results due to floating-point round-off errors from different computation orders. To turn them off, set the environment variable `TF_ENABLE_ONEDNN_OPTS=0`.\n",
      "2025-03-22 15:42:21.231202: I tensorflow/core/platform/cpu_feature_guard.cc:182] This TensorFlow binary is optimized to use available CPU instructions in performance-critical operations.\n",
      "To enable the following instructions: AVX2 AVX512F AVX512_VNNI FMA, in other operations, rebuild TensorFlow with the appropriate compiler flags.\n",
      "2025-03-22 15:42:35.408143: W tensorflow/compiler/tf2tensorrt/utils/py_utils.cc:38] TF-TRT Warning: Could not find TensorRT\n"
     ]
    }
   ],
   "source": [
    "import os\n",
    "import re\n",
    "import json\n",
    "import string\n",
    "import pandas as pd\n",
    "import numpy as np\n",
    "import matplotlib.pyplot as plt\n",
    "import seaborn as sns\n",
    "\n",
    "import torch\n",
    "import torch.nn as nn\n",
    "import torch.optim as optim\n",
    "from torch.utils.data import TensorDataset, DataLoader\n",
    "from torch.optim.lr_scheduler import CosineAnnealingLR\n",
    "\n",
    "from sklearn.model_selection import train_test_split\n",
    "from sklearn.preprocessing import LabelEncoder\n",
    "from sklearn.metrics import confusion_matrix, accuracy_score, f1_score, precision_score, recall_score\n",
    "\n",
    "from tensorflow.keras.preprocessing.text import Tokenizer\n",
    "from tensorflow.keras.preprocessing.sequence import pad_sequences\n",
    "\n",
    "import nltk\n",
    "from nltk.corpus import stopwords, wordnet\n",
    "from nltk.stem import WordNetLemmatizer\n",
    "from nltk import pos_tag\n",
    "\n",
    "import optuna\n",
    "from torch.utils.tensorboard import SummaryWriter"
   ]
  },
  {
   "cell_type": "code",
   "execution_count": 36,
   "id": "ea64c6b6-713a-4271-821b-93347faf1c06",
   "metadata": {
    "collapsed": true,
    "jupyter": {
     "outputs_hidden": true
    },
    "tags": []
   },
   "outputs": [
    {
     "name": "stderr",
     "output_type": "stream",
     "text": [
      "[nltk_data] Downloading package punkt_tab to\n",
      "[nltk_data]     /home/ec2-user/nltk_data...\n",
      "[nltk_data]   Package punkt_tab is already up-to-date!\n",
      "[nltk_data] Downloading package stopwords to\n",
      "[nltk_data]     /home/ec2-user/nltk_data...\n",
      "[nltk_data]   Package stopwords is already up-to-date!\n",
      "[nltk_data] Downloading package wordnet to /home/ec2-user/nltk_data...\n",
      "[nltk_data]   Package wordnet is already up-to-date!\n",
      "[nltk_data] Downloading package averaged_perceptron_tagger_eng to\n",
      "[nltk_data]     /home/ec2-user/nltk_data...\n",
      "[nltk_data]   Unzipping taggers/averaged_perceptron_tagger_eng.zip.\n"
     ]
    },
    {
     "data": {
      "text/plain": [
       "True"
      ]
     },
     "execution_count": 36,
     "metadata": {},
     "output_type": "execute_result"
    }
   ],
   "source": [
    "nltk.download('punkt_tab')\n",
    "nltk.download('stopwords')\n",
    "nltk.download('wordnet')\n",
    "nltk.download('averaged_perceptron_tagger_eng')"
   ]
  },
  {
   "cell_type": "code",
   "execution_count": 37,
   "id": "6aa94968-64b2-49d7-a73e-5be821b807dd",
   "metadata": {},
   "outputs": [
    {
     "name": "stdout",
     "output_type": "stream",
     "text": [
      "Using device: cuda\n"
     ]
    }
   ],
   "source": [
    "SEED = 42\n",
    "torch.manual_seed(SEED)\n",
    "np.random.seed(SEED)\n",
    "device = torch.device('cuda' if torch.cuda.is_available() else 'cpu')\n",
    "print(f'Using device: {device}')"
   ]
  },
  {
   "metadata": {},
   "cell_type": "markdown",
   "source": "# 2. Data Preprocessing",
   "id": "5cff44a00e7246cc"
  },
  {
   "cell_type": "code",
   "execution_count": 38,
   "id": "beebdd9e-f104-48c3-b6b5-e086f25f2edb",
   "metadata": {},
   "outputs": [],
   "source": [
    "df = pd.read_csv('best_all_it_jobs.csv')\n",
    "columns_to_keep = ['review_text', 'sentiment']\n",
    "df = df[columns_to_keep].dropna(subset=['review_text'])"
   ]
  },
  {
   "cell_type": "code",
   "execution_count": 39,
   "id": "d5e6a1b8-45a6-407f-a415-8991ccaf450f",
   "metadata": {},
   "outputs": [
    {
     "data": {
      "text/html": [
       "<div>\n",
       "<style scoped>\n",
       "    .dataframe tbody tr th:only-of-type {\n",
       "        vertical-align: middle;\n",
       "    }\n",
       "\n",
       "    .dataframe tbody tr th {\n",
       "        vertical-align: top;\n",
       "    }\n",
       "\n",
       "    .dataframe thead th {\n",
       "        text-align: right;\n",
       "    }\n",
       "</style>\n",
       "<table border=\"1\" class=\"dataframe\">\n",
       "  <thead>\n",
       "    <tr style=\"text-align: right;\">\n",
       "      <th></th>\n",
       "      <th>review_text</th>\n",
       "      <th>sentiment</th>\n",
       "    </tr>\n",
       "  </thead>\n",
       "  <tbody>\n",
       "    <tr>\n",
       "      <th>0</th>\n",
       "      <td>Be ready to work hard, but really learn and gr...</td>\n",
       "      <td>Positive</td>\n",
       "    </tr>\n",
       "    <tr>\n",
       "      <th>1</th>\n",
       "      <td>Freelancing is for me i want to earn money fin...</td>\n",
       "      <td>Neutral</td>\n",
       "    </tr>\n",
       "    <tr>\n",
       "      <th>2</th>\n",
       "      <td>Not all change is for the better. Flexible for...</td>\n",
       "      <td>Positive</td>\n",
       "    </tr>\n",
       "    <tr>\n",
       "      <th>3</th>\n",
       "      <td>Good people Great people and schedule.  Get to...</td>\n",
       "      <td>Positive</td>\n",
       "    </tr>\n",
       "    <tr>\n",
       "      <th>4</th>\n",
       "      <td>DON'T WORK HERE Low pay, poor treatment, hosti...</td>\n",
       "      <td>Negative</td>\n",
       "    </tr>\n",
       "  </tbody>\n",
       "</table>\n",
       "</div>"
      ],
      "text/plain": [
       "                                         review_text sentiment\n",
       "0  Be ready to work hard, but really learn and gr...  Positive\n",
       "1  Freelancing is for me i want to earn money fin...   Neutral\n",
       "2  Not all change is for the better. Flexible for...  Positive\n",
       "3  Good people Great people and schedule.  Get to...  Positive\n",
       "4  DON'T WORK HERE Low pay, poor treatment, hosti...  Negative"
      ]
     },
     "execution_count": 39,
     "metadata": {},
     "output_type": "execute_result"
    }
   ],
   "source": [
    "df.head(5)"
   ]
  },
  {
   "cell_type": "code",
   "execution_count": 40,
   "id": "c4dbfc75-ccb0-440f-ac3c-eaa517f5756a",
   "metadata": {},
   "outputs": [],
   "source": [
    "label_map = {\"Negative\": 0, \"Neutral\": 1, \"Positive\": 2}\n",
    "df['label'] = df['sentiment'].map(label_map)"
   ]
  },
  {
   "cell_type": "code",
   "execution_count": 41,
   "id": "a5c0e194-f182-4bcd-b6d6-dfa0c4c1c6fa",
   "metadata": {},
   "outputs": [],
   "source": [
    "df_sampled = (df.groupby(\"sentiment\")\n",
    "              .sample(n=20000, random_state=SEED, replace=True)\n",
    "              .reset_index(drop=True))"
   ]
  },
  {
   "cell_type": "code",
   "execution_count": 42,
   "id": "eb36b633-2b29-41bf-9796-3f33e8ed0736",
   "metadata": {},
   "outputs": [],
   "source": [
    "stop_words = set(stopwords.words(\"english\"))\n",
    "lemmatizer = WordNetLemmatizer()"
   ]
  },
  {
   "cell_type": "code",
   "execution_count": 43,
   "id": "aa40f985-3b51-437b-b980-521ecacc4057",
   "metadata": {},
   "outputs": [],
   "source": [
    "def get_wordnet_pos(tag):\n",
    "    return {\n",
    "        'J': wordnet.ADJ,\n",
    "        'V': wordnet.VERB,\n",
    "        'N': wordnet.NOUN,\n",
    "        'R': wordnet.ADV\n",
    "    }.get(tag[0], wordnet.NOUN)\n",
    "\n",
    "def preprocess_text(text):\n",
    "    if not isinstance(text, str):\n",
    "        return \"\"\n",
    "    text = re.sub(r'http\\S+|www\\S+|[^a-zA-Z\\s]', '', text.lower())\n",
    "    tokens = [lemmatizer.lemmatize(w, get_wordnet_pos(tag)) \n",
    "              for w, tag in pos_tag(nltk.word_tokenize(text)) \n",
    "              if w not in stop_words]\n",
    "    return ' '.join(tokens)"
   ]
  },
  {
   "cell_type": "code",
   "execution_count": 44,
   "id": "201b8ee2-26ba-49bc-b4ed-8ec956af8fd4",
   "metadata": {},
   "outputs": [],
   "source": [
    "df_sampled['cleaned_review'] = df_sampled['review_text'].apply(preprocess_text)\n",
    "df_sampled = df_sampled[df_sampled['cleaned_review'].str.strip().astype(bool)]"
   ]
  },
  {
   "metadata": {},
   "cell_type": "markdown",
   "source": "# 3. Data Splitting\n",
   "id": "d7d2c54430eaa1a3"
  },
  {
   "cell_type": "code",
   "execution_count": 45,
   "id": "ef5816c7-b6a2-45c8-802e-243123dc8658",
   "metadata": {},
   "outputs": [],
   "source": [
    "train_df, temp_df = train_test_split(\n",
    "    df_sampled, test_size=0.3, stratify=df_sampled['sentiment'], random_state=SEED\n",
    ")\n",
    "val_df, test_df = train_test_split(\n",
    "    temp_df, test_size=0.5, stratify=temp_df['sentiment'], random_state=SEED\n",
    ")"
   ]
  },
  {
   "metadata": {},
   "cell_type": "markdown",
   "source": "# 4. Tokenization",
   "id": "3e449c908ec68b0"
  },
  {
   "cell_type": "code",
   "execution_count": 46,
   "id": "bcca67cb-a6f7-433c-83ba-587d23500999",
   "metadata": {},
   "outputs": [],
   "source": [
    "tokenizer = Tokenizer(num_words=10000, oov_token=\"<OOV>\")\n",
    "tokenizer.fit_on_texts(train_df['cleaned_review'])"
   ]
  },
  {
   "cell_type": "code",
   "execution_count": 47,
   "id": "9b636c27-7d91-4b5a-90ac-214ce7f51b68",
   "metadata": {},
   "outputs": [],
   "source": [
    "def prepare_sequences(df, max_length=250):\n",
    "    sequences = tokenizer.texts_to_sequences(df['cleaned_review'])\n",
    "    lengths = [min(len(seq), max_length) for seq in sequences]\n",
    "    padded = pad_sequences(sequences, maxlen=max_length, padding='post', truncating='post')\n",
    "    return padded, lengths"
   ]
  },
  {
   "cell_type": "code",
   "execution_count": 48,
   "id": "3ebd87ce-6bed-47db-b531-bc178d6669c1",
   "metadata": {},
   "outputs": [],
   "source": [
    "X_train, train_lengths = prepare_sequences(train_df)\n",
    "X_val, val_lengths = prepare_sequences(val_df)\n",
    "X_test, test_lengths = prepare_sequences(test_df)"
   ]
  },
  {
   "cell_type": "code",
   "execution_count": 49,
   "id": "b37488ff-ff0c-4f5f-8278-13fdb7d3eaf1",
   "metadata": {},
   "outputs": [],
   "source": [
    "le = LabelEncoder()\n",
    "y_train = le.fit_transform(train_df['sentiment'])\n",
    "y_val = le.transform(val_df['sentiment'])\n",
    "y_test = le.transform(test_df['sentiment'])"
   ]
  },
  {
   "metadata": {},
   "cell_type": "markdown",
   "source": "# 5. Word Embedding",
   "id": "cde3aeab2bdc20fe"
  },
  {
   "cell_type": "code",
   "execution_count": 50,
   "id": "6e2509aa-4715-4868-8e96-aa6a983bacd9",
   "metadata": {},
   "outputs": [],
   "source": [
    "def load_glove_embeddings(path, tokenizer, embed_dim):\n",
    "    embeddings_index = {}\n",
    "    with open(path, 'r', encoding='utf-8') as f:\n",
    "        for line in f:\n",
    "            values = line.split()\n",
    "            word = values[0]\n",
    "            vector = np.array(values[1:], dtype='float32')\n",
    "            embeddings_index[word] = vector\n",
    "\n",
    "    vocab_size = tokenizer.num_words + 1\n",
    "    embedding_matrix = np.zeros((vocab_size, embed_dim))\n",
    "    \n",
    "    for word, i in tokenizer.word_index.items():\n",
    "        if i >= vocab_size:\n",
    "            continue\n",
    "        if word in embeddings_index:\n",
    "            embedding_matrix[i] = embeddings_index[word]\n",
    "            \n",
    "    return torch.tensor(embedding_matrix, dtype=torch.float32)\n",
    "\n",
    "embedding_matrix = load_glove_embeddings('glove.6B.100d.txt', tokenizer, 100)"
   ]
  },
  {
   "metadata": {},
   "cell_type": "markdown",
   "source": "# 6. DataLoader Function",
   "id": "a0d597de9793119b"
  },
  {
   "cell_type": "code",
   "execution_count": 51,
   "id": "21935f7c-b69d-4983-9c8e-89655bbc8972",
   "metadata": {},
   "outputs": [],
   "source": [
    "def create_dataloader(X, lengths, y, batch_size=128, shuffle=False):\n",
    "    dataset = TensorDataset(\n",
    "        torch.tensor(X, dtype=torch.long),\n",
    "        torch.tensor(lengths, dtype=torch.long),\n",
    "        torch.tensor(y, dtype=torch.long)\n",
    "    )\n",
    "    return DataLoader(dataset, batch_size=batch_size, shuffle=shuffle, num_workers=4)"
   ]
  },
  {
   "metadata": {},
   "cell_type": "markdown",
   "source": "# 7. Define Model",
   "id": "c638b8ed0388cdee"
  },
  {
   "cell_type": "code",
   "execution_count": 52,
   "id": "3b16e563-2f6e-46a6-8b48-d63634d57503",
   "metadata": {},
   "outputs": [],
   "source": [
    "class SentimentLSTM(nn.Module):\n",
    "    def __init__(self, vocab_size, embed_dim, hidden_dim, output_dim, \n",
    "                 num_layers, dropout, pretrained_embeddings=None):\n",
    "        super().__init__()\n",
    "        if pretrained_embeddings is not None:\n",
    "            self.embedding = nn.Embedding.from_pretrained(pretrained_embeddings, freeze=False)\n",
    "        else:\n",
    "            self.embedding = nn.Embedding(vocab_size, embed_dim)\n",
    "            \n",
    "        self.lstm = nn.LSTM(embed_dim, hidden_dim, num_layers, \n",
    "                           dropout=dropout, batch_first=True)\n",
    "        self.dropout = nn.Dropout(dropout)\n",
    "        self.fc = nn.Linear(hidden_dim, output_dim)\n",
    "\n",
    "    def forward(self, x, lengths):\n",
    "        embedded = self.embedding(x)\n",
    "        packed = nn.utils.rnn.pack_padded_sequence(\n",
    "            embedded, lengths.cpu(), batch_first=True, enforce_sorted=False\n",
    "        )\n",
    "        _, (hidden, _) = self.lstm(packed)\n",
    "        return self.fc(self.dropout(hidden[-1]))"
   ]
  },
  {
   "metadata": {},
   "cell_type": "markdown",
   "source": "# 8. Training Function",
   "id": "7a8bcfa8514e80d7"
  },
  {
   "cell_type": "code",
   "execution_count": 53,
   "id": "900a9c5d-cff4-408a-8a6d-4292a025acd1",
   "metadata": {},
   "outputs": [],
   "source": [
    "def train(model, loader, optimizer, criterion, device):\n",
    "    model.train()\n",
    "    total_loss = 0\n",
    "    correct = 0\n",
    "    \n",
    "    for X, lengths, y in loader:\n",
    "        X, y = X.to(device), y.to(device)\n",
    "        optimizer.zero_grad()\n",
    "        outputs = model(X, lengths)\n",
    "        loss = criterion(outputs, y)\n",
    "        loss.backward()\n",
    "        nn.utils.clip_grad_norm_(model.parameters(), 1.0)\n",
    "        optimizer.step()\n",
    "        \n",
    "        total_loss += loss.item()\n",
    "        correct += (outputs.argmax(dim=1) == y).sum().item()\n",
    "    return total_loss/len(loader), correct/len(loader.dataset)"
   ]
  },
  {
   "metadata": {},
   "cell_type": "markdown",
   "source": "# 9. Evaluation Function",
   "id": "d23ad9f42adb09d1"
  },
  {
   "metadata": {},
   "cell_type": "code",
   "outputs": [],
   "execution_count": null,
   "source": [
    "def evaluate(model, loader, criterion, device):\n",
    "    model.eval()\n",
    "    total_loss = 0\n",
    "    correct = 0\n",
    "    \n",
    "    with torch.no_grad():\n",
    "        for X, lengths, y in loader:\n",
    "            X, y = X.to(device), y.to(device)\n",
    "            outputs = model(X, lengths)\n",
    "            loss = criterion(outputs, y)\n",
    "            total_loss += loss.item()\n",
    "            correct += (outputs.argmax(dim=1) == y).sum().item()\n",
    "    return total_loss/len(loader), correct/len(loader.dataset)"
   ],
   "id": "87d618af6ac7e008"
  },
  {
   "metadata": {},
   "cell_type": "code",
   "outputs": [],
   "execution_count": null,
   "source": [
    "def evaluate_metrics(model, loader, device):\n",
    "    model.eval()\n",
    "    all_preds, all_labels = [], []\n",
    "    with torch.no_grad():\n",
    "        for X, lengths, y in loader:\n",
    "            X, y = X.to(device), y.to(device)\n",
    "            outputs = model(X, lengths)\n",
    "            preds = outputs.argmax(dim=1)\n",
    "            all_preds.extend(preds.cpu().numpy())\n",
    "            all_labels.extend(y.cpu().numpy())\n",
    "    cm = confusion_matrix(all_labels, all_preds)\n",
    "    acc = accuracy_score(all_labels, all_preds)\n",
    "    f1 = f1_score(all_labels, all_preds, average='macro')\n",
    "    precision = precision_score(all_labels, all_preds, average='macro')\n",
    "    recall = recall_score(all_labels, all_preds, average='macro')\n",
    "    return cm, acc, f1, precision, recall"
   ],
   "id": "c82d4a9196353490"
  },
  {
   "metadata": {},
   "cell_type": "markdown",
   "source": "# 10. Hyperparameter Tuning with Optuna",
   "id": "87f3529a3f8f34d4"
  },
  {
   "cell_type": "code",
   "execution_count": 56,
   "id": "a4cf3577-efa3-4f1d-b790-63aec51e8a23",
   "metadata": {},
   "outputs": [],
   "source": [
    "def objective(trial):\n",
    "    num_layers = trial.suggest_int('num_layers', 1, 3)\n",
    "    params = {\n",
    "        'hidden_dim': trial.suggest_categorical('hidden_dim', [128, 256, 512]),\n",
    "        'num_layers': num_layers,\n",
    "        'dropout': trial.suggest_float('dropout', 0.1, 0.5) if num_layers > 1 else 0.0,\n",
    "        'lr': trial.suggest_float('lr', 1e-5, 1e-2, log=True),\n",
    "        'batch_size': trial.suggest_categorical('batch_size', [64, 128, 256]),\n",
    "        'weight_decay': trial.suggest_float('weight_decay', 1e-6, 1e-3, log=True),\n",
    "        'num_epochs': trial.suggest_int('num_epochs', 5, 10),\n",
    "        'grad_clip': trial.suggest_float('grad_clip', 0.5, 1.5)\n",
    "    }\n",
    "\n",
    "    train_loader_trial = create_dataloader(X_train, train_lengths, y_train, batch_size=params['batch_size'], shuffle=True)\n",
    "    val_loader_trial = create_dataloader(X_val, val_lengths, y_val, batch_size=params['batch_size'])\n",
    "    \n",
    "    model = SentimentLSTM(\n",
    "        vocab_size=10001,\n",
    "        embed_dim=100,\n",
    "        output_dim=len(le.classes_),\n",
    "        pretrained_embeddings=embedding_matrix,\n",
    "        hidden_dim=params['hidden_dim'],\n",
    "        num_layers=params['num_layers'],\n",
    "        dropout=params['dropout']\n",
    "    ).to(device)\n",
    "    \n",
    "    optimizer = optim.AdamW(model.parameters(), lr=params['lr'], weight_decay=params['weight_decay'])\n",
    "    scheduler = CosineAnnealingLR(optimizer, T_max=10)\n",
    "    criterion = nn.CrossEntropyLoss()\n",
    "    writer = SummaryWriter()\n",
    "    \n",
    "    best_val_acc = 0\n",
    "    patience = 2\n",
    "    no_improvement = 0\n",
    "    \n",
    "    for epoch in range(params['num_epochs']):\n",
    "        train_loss, train_acc = train(model, train_loader_trial, optimizer, criterion, device)\n",
    "        val_loss, val_acc = evaluate(model, val_loader_trial, criterion, device)\n",
    "        scheduler.step()\n",
    "        \n",
    "        trial.report(val_acc, epoch)\n",
    "        if trial.should_prune():\n",
    "            writer.close()\n",
    "            raise optuna.TrialPruned()\n",
    "            \n",
    "        writer.add_scalars('Loss', {'train': train_loss, 'val': val_loss}, epoch)\n",
    "        writer.add_scalars('Accuracy', {'train': train_acc, 'val': val_acc}, epoch)\n",
    "        \n",
    "        if val_acc > best_val_acc:\n",
    "            best_val_acc = val_acc\n",
    "            no_improvement = 0\n",
    "        else:\n",
    "            no_improvement += 1\n",
    "            if no_improvement >= patience:\n",
    "                break  # Early stopping\n",
    "    writer.close()\n",
    "    return best_val_acc"
   ]
  },
  {
   "cell_type": "code",
   "execution_count": 57,
   "id": "263a128b-9a59-41b3-bdb0-c3d01cc43461",
   "metadata": {},
   "outputs": [
    {
     "name": "stderr",
     "output_type": "stream",
     "text": [
      "[I 2025-03-22 15:54:18,434] A new study created in memory with name: no-name-09714cff-b099-4852-8a6d-24bc3707c82f\n",
      "[I 2025-03-22 15:56:55,184] Trial 0 finished with value: 0.6553333333333333 and parameters: {'num_layers': 3, 'hidden_dim': 512, 'dropout': 0.17724584291309037, 'lr': 2.3357378091557774e-05, 'batch_size': 128, 'weight_decay': 7.565839635695369e-05, 'num_epochs': 6, 'grad_clip': 0.7252362524382613}. Best is trial 0 with value: 0.6553333333333333.\n",
      "[I 2025-03-22 15:58:04,312] Trial 1 finished with value: 0.7593333333333333 and parameters: {'num_layers': 1, 'hidden_dim': 256, 'lr': 0.006070909639846235, 'batch_size': 64, 'weight_decay': 0.00029376344684140643, 'num_epochs': 9, 'grad_clip': 0.6176224485198462}. Best is trial 1 with value: 0.7593333333333333.\n",
      "[I 2025-03-22 15:58:43,949] Trial 2 finished with value: 0.684 and parameters: {'num_layers': 2, 'hidden_dim': 256, 'dropout': 0.13051435872540892, 'lr': 0.00013154331668680937, 'batch_size': 256, 'weight_decay': 1.7003775850904e-05, 'num_epochs': 8, 'grad_clip': 0.6301751330139602}. Best is trial 1 with value: 0.7593333333333333.\n",
      "[I 2025-03-22 16:00:18,930] Trial 3 finished with value: 0.6652222222222223 and parameters: {'num_layers': 2, 'hidden_dim': 512, 'dropout': 0.11793202222041509, 'lr': 5.040953376801348e-05, 'batch_size': 256, 'weight_decay': 2.9180962927607302e-05, 'num_epochs': 8, 'grad_clip': 0.7654744281168291}. Best is trial 1 with value: 0.7593333333333333.\n",
      "[I 2025-03-22 16:02:25,883] Trial 4 finished with value: 0.7525555555555555 and parameters: {'num_layers': 2, 'hidden_dim': 512, 'dropout': 0.4079783099710955, 'lr': 0.0016847870766570888, 'batch_size': 128, 'weight_decay': 0.00045848510385673095, 'num_epochs': 8, 'grad_clip': 0.5684795135971752}. Best is trial 1 with value: 0.7593333333333333.\n",
      "[I 2025-03-22 16:03:45,761] Trial 5 pruned. \n",
      "[I 2025-03-22 16:04:02,049] Trial 6 pruned. \n",
      "[I 2025-03-22 16:04:50,857] Trial 7 finished with value: 0.7457777777777778 and parameters: {'num_layers': 1, 'hidden_dim': 512, 'lr': 0.001144425628917199, 'batch_size': 128, 'weight_decay': 0.0006255937620230305, 'num_epochs': 6, 'grad_clip': 0.9598776452907587}. Best is trial 1 with value: 0.7593333333333333.\n",
      "[I 2025-03-22 16:05:06,749] Trial 8 pruned. \n",
      "[I 2025-03-22 16:05:48,398] Trial 9 pruned. \n",
      "[I 2025-03-22 16:06:57,340] Trial 10 pruned. \n",
      "[I 2025-03-22 16:08:37,204] Trial 11 pruned. \n",
      "[I 2025-03-22 16:10:45,071] Trial 12 pruned. \n",
      "[I 2025-03-22 16:11:38,586] Trial 13 finished with value: 0.7473333333333333 and parameters: {'num_layers': 1, 'hidden_dim': 256, 'lr': 0.0008682611617801397, 'batch_size': 64, 'weight_decay': 0.00029338064372259106, 'num_epochs': 7, 'grad_clip': 0.7971652701661429}. Best is trial 1 with value: 0.7593333333333333.\n",
      "[I 2025-03-22 16:13:04,961] Trial 14 finished with value: 0.7587777777777778 and parameters: {'num_layers': 2, 'hidden_dim': 128, 'dropout': 0.355597460385969, 'lr': 0.0032970091642914477, 'batch_size': 64, 'weight_decay': 0.0008801011222169552, 'num_epochs': 8, 'grad_clip': 0.8801288051457721}. Best is trial 1 with value: 0.7593333333333333.\n",
      "[I 2025-03-22 16:14:05,176] Trial 15 finished with value: 0.7583333333333333 and parameters: {'num_layers': 1, 'hidden_dim': 128, 'lr': 0.004695727038386153, 'batch_size': 64, 'weight_decay': 0.000911914934302651, 'num_epochs': 9, 'grad_clip': 0.8659287868636119}. Best is trial 1 with value: 0.7593333333333333.\n",
      "[I 2025-03-22 16:14:18,935] Trial 16 pruned. \n",
      "[I 2025-03-22 16:15:33,753] Trial 17 finished with value: 0.7558888888888889 and parameters: {'num_layers': 2, 'hidden_dim': 128, 'dropout': 0.35383919394842345, 'lr': 0.004497843968183362, 'batch_size': 64, 'weight_decay': 0.0001555565486073649, 'num_epochs': 7, 'grad_clip': 0.8654545339896909}. Best is trial 1 with value: 0.7593333333333333.\n",
      "[I 2025-03-22 16:15:45,182] Trial 18 pruned. \n",
      "[I 2025-03-22 16:15:48,264] Trial 19 pruned. \n"
     ]
    },
    {
     "name": "stdout",
     "output_type": "stream",
     "text": [
      "Best Optuna Params: {'num_layers': 1, 'hidden_dim': 256, 'lr': 0.006070909639846235, 'batch_size': 64, 'weight_decay': 0.00029376344684140643, 'num_epochs': 9, 'grad_clip': 0.6176224485198462}\n"
     ]
    }
   ],
   "source": [
    "study = optuna.create_study(direction='maximize')\n",
    "study.optimize(objective, n_trials=20)\n",
    "print(\"Best Optuna Params:\", study.best_params)"
   ]
  },
  {
   "metadata": {},
   "cell_type": "markdown",
   "source": "# 11. Final Training with Best Parameters",
   "id": "1a97f75f3beb1649"
  },
  {
   "cell_type": "code",
   "execution_count": 58,
   "id": "dcf4e02d-041b-458d-a379-22c2a2ac7695",
   "metadata": {},
   "outputs": [],
   "source": [
    "best_params = study.best_params"
   ]
  },
  {
   "cell_type": "code",
   "execution_count": 66,
   "id": "ca8c1f82-c24f-44a2-99b0-802fad9b8a84",
   "metadata": {},
   "outputs": [],
   "source": [
    "final_model = SentimentLSTM(\n",
    "    vocab_size=10001,\n",
    "    embed_dim=100,\n",
    "    output_dim=len(le.classes_),\n",
    "    pretrained_embeddings=embedding_matrix,\n",
    "    hidden_dim=best_params['hidden_dim'],\n",
    "    num_layers=best_params['num_layers'],\n",
    "    dropout=0\n",
    ").to(device)"
   ]
  },
  {
   "cell_type": "code",
   "execution_count": 67,
   "id": "1ea5ba96-fe3b-467d-b191-150d302888cc",
   "metadata": {},
   "outputs": [],
   "source": [
    "train_loader = create_dataloader(X_train, train_lengths, y_train, batch_size=best_params['batch_size'], shuffle=True)\n",
    "val_loader = create_dataloader(X_val, val_lengths, y_val, batch_size=best_params['batch_size'])\n",
    "test_loader = create_dataloader(X_test, test_lengths, y_test, batch_size=best_params['batch_size'])"
   ]
  },
  {
   "cell_type": "code",
   "execution_count": 68,
   "id": "15396249-dfba-4f06-9282-f8e638591967",
   "metadata": {},
   "outputs": [],
   "source": [
    "optimizer = optim.AdamW(final_model.parameters(), lr=best_params['lr'], weight_decay=best_params['weight_decay'])\n",
    "criterion = nn.CrossEntropyLoss()"
   ]
  },
  {
   "cell_type": "code",
   "execution_count": 69,
   "id": "10e19a74-1962-4f65-a03f-83badc2bfd46",
   "metadata": {},
   "outputs": [
    {
     "name": "stdout",
     "output_type": "stream",
     "text": [
      "Epoch 1: Train Loss: 0.7632 | Val Acc: 0.7169\n",
      "Epoch 2: Train Loss: 0.5651 | Val Acc: 0.7324\n",
      "Epoch 3: Train Loss: 0.4345 | Val Acc: 0.7432\n",
      "Epoch 4: Train Loss: 0.3301 | Val Acc: 0.7387\n",
      "Epoch 5: Train Loss: 0.2561 | Val Acc: 0.7403\n",
      "Epoch 6: Train Loss: 0.2009 | Val Acc: 0.7498\n",
      "Epoch 7: Train Loss: 0.1634 | Val Acc: 0.7392\n",
      "Epoch 8: Train Loss: 0.1430 | Val Acc: 0.7449\n",
      "Epoch 9: Train Loss: 0.1240 | Val Acc: 0.7462\n"
     ]
    }
   ],
   "source": [
    "num_epochs = best_params['num_epochs']\n",
    "train_losses = []\n",
    "val_accuracies = []\n",
    "\n",
    "for epoch in range(num_epochs):\n",
    "    train_loss, train_acc = train(final_model, train_loader, optimizer, criterion, device)\n",
    "    val_loss, val_acc = evaluate(final_model, val_loader, criterion, device)\n",
    "    train_losses.append(train_loss)\n",
    "    val_accuracies.append(val_acc)\n",
    "    print(f'Epoch {epoch+1}: Train Loss: {train_loss:.4f} | Val Acc: {val_acc:.4f}')"
   ]
  },
  {
   "metadata": {},
   "cell_type": "markdown",
   "source": "# 12. Training Graphs",
   "id": "37cb730acae1058b"
  },
  {
   "cell_type": "code",
   "execution_count": 70,
   "id": "299fd608-e768-4096-afd0-2942ef97c026",
   "metadata": {},
   "outputs": [
    {
     "data": {
      "image/png": "[encoded data removed]",
      "text/plain": [
       "<Figure size 1200x500 with 2 Axes>"
      ]
     },
     "metadata": {},
     "output_type": "display_data"
    }
   ],
   "source": [
    "plt.figure(figsize=(12, 5))\n",
    "plt.subplot(1, 2, 1)\n",
    "plt.plot(range(1, num_epochs+1), train_losses, marker='o', label='Train Loss', color='blue')\n",
    "plt.title('Training Loss Over Epochs')\n",
    "plt.xlabel('Epoch')\n",
    "plt.ylabel('Loss')\n",
    "plt.legend()\n",
    "\n",
    "plt.subplot(1, 2, 2)\n",
    "plt.plot(range(1, num_epochs+1), val_accuracies, marker='o', label='Validation Accuracy', color='green')\n",
    "plt.title('Validation Accuracy Over Epochs')\n",
    "plt.xlabel('Epoch')\n",
    "plt.ylabel('Accuracy')\n",
    "plt.legend()\n",
    "\n",
    "plt.tight_layout()\n",
    "plt.show()"
   ]
  },
  {
   "metadata": {},
   "cell_type": "markdown",
   "source": "# 13. Final Evaluation",
   "id": "25f01125137b5700"
  },
  {
   "cell_type": "code",
   "execution_count": 71,
   "id": "8d8fa5c3-dcac-40d7-8dc8-57cc9570ff40",
   "metadata": {},
   "outputs": [
    {
     "name": "stdout",
     "output_type": "stream",
     "text": [
      "\n",
      "Test Loss: 1.2220 | Test Accuracy: 0.7398 | F1: 0.7403 | Precision: 0.7415 | Recall: 0.7398\n"
     ]
    },
    {
     "data": {
      "image/png": "[encoded data removed]",
      "text/plain": [
       "<Figure size 800x600 with 2 Axes>"
      ]
     },
     "metadata": {},
     "output_type": "display_data"
    }
   ],
   "source": [
    "test_loss, test_acc = evaluate(final_model, test_loader, criterion, device)\n",
    "cm, acc, f1, precision, recall = evaluate_metrics(final_model, test_loader, device)\n",
    "print(f'\\nTest Loss: {test_loss:.4f} | Test Accuracy: {acc:.4f} | F1: {f1:.4f} | Precision: {precision:.4f} | Recall: {recall:.4f}')\n",
    "\n",
    "plt.figure(figsize=(8, 6))\n",
    "sns.heatmap(cm, annot=True, fmt='d', cmap='Blues',\n",
    "            xticklabels=le.classes_,\n",
    "            yticklabels=le.classes_)\n",
    "plt.title(f'Confusion Matrix (Test Acc: {acc:.2%})')\n",
    "plt.xlabel('Predicted Label')\n",
    "plt.ylabel('True Label')\n",
    "plt.show()"
   ]
  },
  {
   "cell_type": "code",
   "execution_count": null,
   "id": "31f2a50f-7d95-4666-815d-c405ee68cbd3",
   "metadata": {},
   "outputs": [],
   "source": []
  }
 ],
 "metadata": {
  "kernelspec": {
   "display_name": "Python 3 (ipykernel)",
   "language": "python",
   "name": "python3"
  },
  "language_info": {
   "codemirror_mode": {
    "name": "ipython",
    "version": 3
   },
   "file_extension": ".py",
   "mimetype": "text/x-python",
   "name": "python",
   "nbconvert_exporter": "python",
   "pygments_lexer": "ipython3",
   "version": "3.8.20"
  }
 },
 "nbformat": 4,
 "nbformat_minor": 5
}
