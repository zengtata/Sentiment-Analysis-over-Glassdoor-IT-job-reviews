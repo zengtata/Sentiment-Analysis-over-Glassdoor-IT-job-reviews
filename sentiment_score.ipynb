{
 "cells": [
  {
   "cell_type": "code",
   "id": "initial_id",
   "metadata": {
    "collapsed": true,
    "ExecuteTime": {
     "end_time": "2025-03-30T14:17:23.337264Z",
     "start_time": "2025-03-30T14:17:23.332778Z"
    }
   },
   "source": [
    "import json\n",
    "\n",
    "def calculate_sentiment_score(positive: int, total_reviews: int) -> float:\n",
    "    score = (positive/total_reviews) * 100\n",
    "    return score"
   ],
   "outputs": [],
   "execution_count": 1
  },
  {
   "metadata": {
    "ExecuteTime": {
     "end_time": "2025-03-30T14:31:03.136935Z",
     "start_time": "2025-03-30T14:31:03.129419Z"
    }
   },
   "cell_type": "code",
   "source": [
    "input_filename = \"sentiment_results/ux_designer_jobs.json\"\n",
    "output_filename = \"sentiment_scores/ux_designer_scores.json\"\n",
    "\n",
    "with open(input_filename, \"r\") as file:\n",
    "    data = json.load(file)\n",
    "\n",
    "results = []\n",
    "\n",
    "for year in sorted(data.keys()):\n",
    "        records = data[year]\n",
    "        if records and isinstance(records, list):\n",
    "            record = records[0]\n",
    "            positive = record[\"sentiment_counts\"].get(\"Positive\", 0)\n",
    "            total_reviews = record.get(\"num_reviews\", 1)\n",
    "\n",
    "            score = calculate_sentiment_score(positive, total_reviews)\n",
    "\n",
    "            results.append({\n",
    "                \"year\": year,\n",
    "                \"sentiment_score\": round(score, 2),\n",
    "                \"num_reviews\": total_reviews\n",
    "            })"
   ],
   "id": "84c9619f1dff4929",
   "outputs": [],
   "execution_count": 24
  },
  {
   "metadata": {
    "ExecuteTime": {
     "end_time": "2025-03-30T14:31:03.926613Z",
     "start_time": "2025-03-30T14:31:03.920115Z"
    }
   },
   "cell_type": "code",
   "source": [
    "with open(output_filename, \"w\") as outfile:\n",
    "    json.dump(results, outfile, indent=4)\n",
    "\n",
    "print(\"Sentiment scores written to\", output_filename)\n",
    "for entry in results:\n",
    "    print(entry)"
   ],
   "id": "dbbc0e08c1b81caa",
   "outputs": [
    {
     "name": "stdout",
     "output_type": "stream",
     "text": [
      "Sentiment scores written to sentiment_scores/ux_designer_scores.json\n",
      "{'year': '2008', 'sentiment_score': 72.65, 'num_reviews': 117}\n",
      "{'year': '2009', 'sentiment_score': 67.74, 'num_reviews': 62}\n",
      "{'year': '2010', 'sentiment_score': 64.89, 'num_reviews': 94}\n",
      "{'year': '2011', 'sentiment_score': 71.72, 'num_reviews': 99}\n",
      "{'year': '2012', 'sentiment_score': 74.9, 'num_reviews': 255}\n",
      "{'year': '2013', 'sentiment_score': 72.84, 'num_reviews': 335}\n",
      "{'year': '2014', 'sentiment_score': 74.08, 'num_reviews': 517}\n",
      "{'year': '2015', 'sentiment_score': 75.43, 'num_reviews': 985}\n",
      "{'year': '2016', 'sentiment_score': 73.38, 'num_reviews': 943}\n",
      "{'year': '2017', 'sentiment_score': 75.15, 'num_reviews': 1018}\n",
      "{'year': '2018', 'sentiment_score': 74.21, 'num_reviews': 981}\n",
      "{'year': '2019', 'sentiment_score': 73.58, 'num_reviews': 1234}\n",
      "{'year': '2020', 'sentiment_score': 90.64, 'num_reviews': 4297}\n",
      "{'year': '2021', 'sentiment_score': 80.12, 'num_reviews': 3858}\n",
      "{'year': '2022', 'sentiment_score': 77.85, 'num_reviews': 4091}\n",
      "{'year': '2023', 'sentiment_score': 75.98, 'num_reviews': 1378}\n"
     ]
    }
   ],
   "execution_count": 25
  },
  {
   "metadata": {},
   "cell_type": "code",
   "outputs": [],
   "execution_count": null,
   "source": "",
   "id": "a4aee43172aeaafb"
  }
 ],
 "metadata": {
  "kernelspec": {
   "display_name": "Python 3",
   "language": "python",
   "name": "python3"
  },
  "language_info": {
   "codemirror_mode": {
    "name": "ipython",
    "version": 2
   },
   "file_extension": ".py",
   "mimetype": "text/x-python",
   "name": "python",
   "nbconvert_exporter": "python",
   "pygments_lexer": "ipython2",
   "version": "2.7.6"
  }
 },
 "nbformat": 4,
 "nbformat_minor": 5
}
