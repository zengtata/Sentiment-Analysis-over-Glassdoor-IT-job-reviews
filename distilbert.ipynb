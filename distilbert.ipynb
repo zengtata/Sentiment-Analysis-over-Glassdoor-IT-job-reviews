{
 "cells": [
  {
   "cell_type": "markdown",
   "id": "b98fb1ca86319026",
   "metadata": {},
   "source": "# 1. Imports"
  },
  {
   "cell_type": "code",
   "execution_count": 2,
   "id": "1ac352504c1cee5c",
   "metadata": {
    "ExecuteTime": {
     "end_time": "2025-02-27T15:03:08.581241Z",
     "start_time": "2025-02-27T15:03:02.349061Z"
    },
    "tags": []
   },
   "outputs": [
    {
     "name": "stderr",
     "output_type": "stream",
     "text": [
      "2025-03-03 20:10:13.110257: I tensorflow/core/util/port.cc:110] oneDNN custom operations are on. You may see slightly different numerical results due to floating-point round-off errors from different computation orders. To turn them off, set the environment variable `TF_ENABLE_ONEDNN_OPTS=0`.\n",
      "2025-03-03 20:10:32.722736: I tensorflow/core/platform/cpu_feature_guard.cc:182] This TensorFlow binary is optimized to use available CPU instructions in performance-critical operations.\n",
      "To enable the following instructions: AVX2 AVX512F AVX512_VNNI FMA, in other operations, rebuild TensorFlow with the appropriate compiler flags.\n",
      "2025-03-03 20:10:50.460709: W tensorflow/compiler/tf2tensorrt/utils/py_utils.cc:38] TF-TRT Warning: Could not find TensorRT\n"
     ]
    }
   ],
   "source": [
    "import re\n",
    "import string\n",
    "import torch\n",
    "import numpy as np\n",
    "import matplotlib.pyplot as plt\n",
    "import pandas as pd\n",
    "import seaborn as sns\n",
    "from sklearn.metrics import confusion_matrix, accuracy_score, f1_score, precision_score, recall_score\n",
    "from sklearn.model_selection import StratifiedShuffleSplit\n",
    "from torch import nn, optim\n",
    "from torch.utils.data import DataLoader, TensorDataset\n",
    "from tqdm.auto import tqdm\n",
    "from transformers import (\n",
    "    DistilBertTokenizer,\n",
    "    DistilBertForSequenceClassification,\n",
    "    DistilBertConfig,\n",
    "    get_scheduler\n",
    ")\n",
    "import optuna\n",
    "import json"
   ]
  },
  {
   "cell_type": "code",
   "execution_count": 3,
   "id": "3608641c43e6e55f",
   "metadata": {
    "ExecuteTime": {
     "end_time": "2025-02-27T15:03:11.077412Z",
     "start_time": "2025-02-27T15:03:11.060412Z"
    }
   },
   "outputs": [],
   "source": [
    "SEED = 42\n",
    "torch.manual_seed(SEED)\n",
    "np.random.seed(SEED)\n",
    "torch.backends.cudnn.benchmark = True\n",
    "torch.backends.cudnn.deterministic = True"
   ]
  },
  {
   "cell_type": "markdown",
   "id": "51dd802715a868a3",
   "metadata": {},
   "source": "# 2. Data Preprocessing"
  },
  {
   "cell_type": "code",
   "execution_count": 4,
   "id": "9cc1afd3311649ef",
   "metadata": {
    "ExecuteTime": {
     "end_time": "2025-02-27T15:27:27.121466Z",
     "start_time": "2025-02-27T15:27:23.146542Z"
    },
    "tags": []
   },
   "outputs": [
    {
     "name": "stdout",
     "output_type": "stream",
     "text": [
      "=== Sample reviews (raw) ===\n",
      "[\"**Company To AVOID** Disgusting management, 0 structure in the company, toxic CEO Remote working ( and when you start to know the boss, you understand why it's better like that ) The CEO. Certified bad boss, I invite you to do research on the guy and you'll understand the pattern, it's not his first company that crash because of big turnover and inexistent customer support. He's known by lawyers in Tel Aviv as much as his employees attack him in court. Strictly no opportunity for growth in this company, and the pay is anyway not attractive with no more than 12 days of holidays a year. He still didn't pay me the pension that he owe me. Real lunatic , you'll need a lot of patience and self control to handle the Ceo\", 'Software engineer Immense opportunity to learn and ownership of projects end to end No work life balance and no wfh options and 45hrs/week strict criteria', 'Not a very good environment to work 1. transport is good\\r\\n2. food provided by company\\r\\n3. perks 1. Internal politics\\r\\n2. work/life balance is poor']\n",
      "\n",
      "=== Sample reviews (cleaned) ===\n",
      "['company to avoid disgusting management 0 structure in the company toxic ceo remote working and when you start to know the boss you understand why its better like that the ceo certified bad boss i invite you to do research on the guy and youll understand the pattern its not his first company that crash because of big turnover and inexistent customer support hes known by lawyers in tel aviv as much as his employees attack him in court strictly no opportunity for growth in this company and the pay is anyway not attractive with no more than 12 days of holidays a year he still didnt pay me the pension that he owe me real lunatic youll need a lot of patience and self control to handle the ceo', 'software engineer immense opportunity to learn and ownership of projects end to end no work life balance and no wfh options and 45hrsweek strict criteria', 'not a very good environment to work 1 transport is good 2 food provided by company 3 perks 1 internal politics 2 worklife balance is poor']\n"
     ]
    }
   ],
   "source": [
    "def load_and_preprocess_data():\n",
    "    df = pd.read_csv('glassdoor_datasets/best_all_it_jobs.csv')\n",
    "    columns_to_keep = ['review_text', 'sentiment']\n",
    "    df = df[columns_to_keep].dropna(subset=['review_text'])\n",
    "    \n",
    "    label_map = {\"Negative\": 0, \"Neutral\": 1, \"Positive\": 2}\n",
    "    df['label'] = df['sentiment'].map(label_map)\n",
    "\n",
    "    df_sampled = (df.groupby(\"sentiment\")\n",
    "                  .sample(n=25000, random_state=SEED, replace=True)\n",
    "                  .reset_index(drop=True))\n",
    "    \n",
    "    print(\"=== Sample reviews (raw) ===\")\n",
    "    print(df_sampled['review_text'].head(3).to_list())\n",
    "\n",
    "    def clean_text(text):\n",
    "        text = str(text).lower()\n",
    "        text = re.sub(r'http\\S+|www\\S+', '', text)\n",
    "        text = re.sub(r'[{}]'.format(re.escape(string.punctuation)), '', text)\n",
    "        text = re.sub(r'\\s+', ' ', text).strip()\n",
    "        return text\n",
    "    \n",
    "    df_sampled['cleaned_review'] = df_sampled['review_text'].apply(clean_text)\n",
    "    print(\"\\n=== Sample reviews (cleaned) ===\")\n",
    "    print(df_sampled['cleaned_review'].head(3).to_list())\n",
    "    return df_sampled\n",
    "\n",
    "\n",
    "df_sampled = load_and_preprocess_data()"
   ]
  },
  {
   "cell_type": "markdown",
   "id": "ee59f332141ff47f",
   "metadata": {},
   "source": "# 3. Tokenization"
  },
  {
   "cell_type": "code",
   "execution_count": 5,
   "id": "3d79249f28613963",
   "metadata": {
    "ExecuteTime": {
     "end_time": "2025-02-27T15:27:35.570012Z",
     "start_time": "2025-02-27T15:27:27.131456Z"
    },
    "tags": []
   },
   "outputs": [
    {
     "data": {
      "application/vnd.jupyter.widget-view+json": {
       "model_id": "09e2d1b4d9e9496a874d5bfe1420e422",
       "version_major": 2,
       "version_minor": 0
      },
      "text/plain": [
       "tokenizer_config.json:   0%|          | 0.00/48.0 [00:00<?, ?B/s]"
      ]
     },
     "metadata": {},
     "output_type": "display_data"
    },
    {
     "data": {
      "application/vnd.jupyter.widget-view+json": {
       "model_id": "89fbee19326740c3bbfbd6bdcd2343b2",
       "version_major": 2,
       "version_minor": 0
      },
      "text/plain": [
       "vocab.txt:   0%|          | 0.00/232k [00:00<?, ?B/s]"
      ]
     },
     "metadata": {},
     "output_type": "display_data"
    },
    {
     "data": {
      "application/vnd.jupyter.widget-view+json": {
       "model_id": "612b57e28623434aac157f2b1edf56a0",
       "version_major": 2,
       "version_minor": 0
      },
      "text/plain": [
       "tokenizer.json:   0%|          | 0.00/466k [00:00<?, ?B/s]"
      ]
     },
     "metadata": {},
     "output_type": "display_data"
    },
    {
     "data": {
      "application/vnd.jupyter.widget-view+json": {
       "model_id": "f4dabb99d3d84ec4a1d485b1eed9c47f",
       "version_major": 2,
       "version_minor": 0
      },
      "text/plain": [
       "config.json:   0%|          | 0.00/483 [00:00<?, ?B/s]"
      ]
     },
     "metadata": {},
     "output_type": "display_data"
    }
   ],
   "source": [
    "tokenizer = DistilBertTokenizer.from_pretrained('distilbert-base-uncased')\n",
    "\n",
    "def tokenize_data(df, max_length=256):\n",
    "    return tokenizer(\n",
    "        text=df['cleaned_review'].tolist(),\n",
    "        padding='max_length',\n",
    "        truncation=True,\n",
    "        max_length=max_length,\n",
    "        return_tensors='pt',\n",
    "        add_special_tokens=True,\n",
    "        return_attention_mask=True,\n",
    "        return_token_type_ids=False\n",
    "    )\n",
    "\n",
    "tokenized = tokenize_data(df_sampled)\n",
    "input_ids = tokenized['input_ids']\n",
    "attention_mask = tokenized['attention_mask']\n",
    "labels = torch.tensor(df_sampled['label'].values, dtype=torch.long)"
   ]
  },
  {
   "cell_type": "markdown",
   "id": "476c269f8fbab141",
   "metadata": {
    "tags": []
   },
   "source": "# 4. Data Splitting\n"
  },
  {
   "cell_type": "code",
   "execution_count": 6,
   "id": "3dea85157eb052af",
   "metadata": {
    "ExecuteTime": {
     "end_time": "2025-02-27T15:27:35.647864Z",
     "start_time": "2025-02-27T15:27:35.618347Z"
    }
   },
   "outputs": [],
   "source": [
    "def stratified_split(inputs, masks, labels, test_size=0.3):\n",
    "    sss = StratifiedShuffleSplit(n_splits=1, test_size=test_size, random_state=SEED)\n",
    "    train_idx, temp_idx = next(sss.split(inputs, labels))\n",
    "    return (inputs[train_idx], masks[train_idx], labels[train_idx]), \\\n",
    "           (inputs[temp_idx], masks[temp_idx], labels[temp_idx])\n",
    "\n",
    "(train_inputs, train_masks, train_labels), (temp_inputs, temp_masks, temp_labels) = stratified_split(input_ids, attention_mask, labels)\n",
    "(val_inputs, val_masks, val_labels), (test_inputs, test_masks, test_labels) = stratified_split(temp_inputs, temp_masks, temp_labels, test_size=0.5)"
   ]
  },
  {
   "cell_type": "markdown",
   "id": "45443a19b9af38e5",
   "metadata": {},
   "source": "# 5. DataLoader"
  },
  {
   "cell_type": "code",
   "execution_count": 7,
   "id": "14ee1d555b4fc96",
   "metadata": {
    "ExecuteTime": {
     "end_time": "2025-02-27T15:27:35.711378Z",
     "start_time": "2025-02-27T15:27:35.697380Z"
    }
   },
   "outputs": [],
   "source": [
    "def create_dataloader(inputs, masks, labels, batch_size, shuffle=False):\n",
    "    return DataLoader(\n",
    "        TensorDataset(inputs, masks, labels),\n",
    "        batch_size=batch_size,\n",
    "        shuffle=shuffle,\n",
    "        num_workers=4,\n",
    "        pin_memory=True,\n",
    "        prefetch_factor=2\n",
    "    )"
   ]
  },
  {
   "cell_type": "markdown",
   "id": "7db46fcd80a9f731",
   "metadata": {},
   "source": "# 6. Training Function"
  },
  {
   "metadata": {},
   "cell_type": "code",
   "outputs": [],
   "execution_count": null,
   "source": [
    "def train(model, train_loader, optimizer, scheduler, params, device):\n",
    "    model.train()\n",
    "    total_loss = 0\n",
    "    scaler = torch.cuda.amp.GradScaler()\n",
    "    optimizer.zero_grad()\n",
    "    for step, batch in enumerate(tqdm(train_loader, desc=\"Training\")):\n",
    "        inputs, masks, lbls = [t.to(device, non_blocking=True) for t in batch]\n",
    "        with torch.autocast(device_type='cuda', dtype=torch.float16):\n",
    "            outputs = model(inputs, attention_mask=masks, labels=lbls)\n",
    "            loss = outputs.loss / params['grad_accum_steps']\n",
    "        scaler.scale(loss).backward()\n",
    "        if (step + 1) % params['grad_accum_steps'] == 0:\n",
    "            scaler.unscale_(optimizer)\n",
    "            nn.utils.clip_grad_norm_(model.parameters(), params['grad_clip'])\n",
    "            scaler.step(optimizer)\n",
    "            scaler.update()\n",
    "            optimizer.zero_grad()\n",
    "            scheduler.step()\n",
    "        total_loss += loss.item() * params['grad_accum_steps']\n",
    "    return total_loss / len(train_loader)"
   ],
   "id": "28c9961bbfcbbbc0"
  },
  {
   "metadata": {},
   "cell_type": "markdown",
   "source": "# 7. Evaluation Function",
   "id": "9568da664068b98d"
  },
  {
   "metadata": {
    "ExecuteTime": {
     "end_time": "2025-02-27T15:27:35.773386Z",
     "start_time": "2025-02-27T15:27:35.759381Z"
    }
   },
   "cell_type": "code",
   "outputs": [],
   "execution_count": 8,
   "source": [
    "def evaluate(model, val_loader, device):\n",
    "    model.eval()\n",
    "    all_preds, all_labels = [], []\n",
    "    with torch.no_grad(), torch.autocast(device_type='cuda', dtype=torch.float16):\n",
    "        for batch in val_loader:\n",
    "            inputs, masks, lbls = [t.to(device, non_blocking=True) for t in batch]\n",
    "            logits = model(inputs, attention_mask=masks).logits\n",
    "            preds = logits.argmax(dim=-1)\n",
    "            all_preds.extend(preds.cpu().numpy())\n",
    "            all_labels.extend(lbls.cpu().numpy())\n",
    "    acc = accuracy_score(all_labels, all_preds)\n",
    "    f1 = f1_score(all_labels, all_preds, average='macro')\n",
    "    precision = precision_score(all_labels, all_preds, average='macro')\n",
    "    recall = recall_score(all_labels, all_preds, average='macro')\n",
    "    return acc, f1, precision, recall"
   ],
   "id": "dd9cd50eaf321156"
  },
  {
   "metadata": {
    "ExecuteTime": {
     "end_time": "2025-02-27T15:27:35.820617Z",
     "start_time": "2025-02-27T15:27:35.806618Z"
    }
   },
   "cell_type": "code",
   "outputs": [],
   "execution_count": 9,
   "source": [
    "def evaluate_with_metrics(model, test_loader, device):\n",
    "    model.eval()\n",
    "    all_preds, all_labels = [], []\n",
    "    with torch.no_grad(), torch.autocast(device_type='cuda', dtype=torch.float16):\n",
    "        for batch in test_loader:\n",
    "            inputs, masks, lbls = [t.to(device, non_blocking=True) for t in batch]\n",
    "            logits = model(inputs, attention_mask=masks).logits\n",
    "            preds = logits.argmax(dim=-1)\n",
    "            all_preds.extend(preds.cpu().numpy())\n",
    "            all_labels.extend(lbls.cpu().numpy())\n",
    "    acc = accuracy_score(all_labels, all_preds)\n",
    "    f1 = f1_score(all_labels, all_preds, average='macro')\n",
    "    precision = precision_score(all_labels, all_preds, average='macro')\n",
    "    recall = recall_score(all_labels, all_preds, average='macro')\n",
    "    cm = confusion_matrix(all_labels, all_preds)\n",
    "    print(f\"Test Accuracy: {acc:.4f}\")\n",
    "    print(f\"Test Precision: {precision:.4f}\")\n",
    "    print(f\"Test Recall: {recall:.4f}\")\n",
    "    print(f\"Test F1 Score: {f1:.4f}\")\n",
    "    return cm, acc, f1, precision, recall"
   ],
   "id": "fa1c1c489a65282"
  },
  {
   "metadata": {},
   "cell_type": "markdown",
   "source": "# 8. Hyperparameter Tuning with Optuna",
   "id": "70e36d2e0020ac5"
  },
  {
   "metadata": {},
   "cell_type": "code",
   "outputs": [],
   "execution_count": null,
   "source": [
    "USE_OPTUNA = False\n",
    "\n",
    "default_params = {\n",
    "    'lr': 3e-5,\n",
    "    'weight_decay': 1e-5,\n",
    "    'num_epochs': 5,\n",
    "    'hidden_dropout': 0.3,\n",
    "    'attention_dropout': 0.3,\n",
    "    'batch_size': 32,\n",
    "    'grad_clip': 1.0,\n",
    "    'grad_accum_steps': 1\n",
    "}"
   ],
   "id": "efa92c9b84d97ae8"
  },
  {
   "metadata": {
    "ExecuteTime": {
     "end_time": "2025-02-27T15:27:35.978246Z",
     "start_time": "2025-02-27T15:27:35.952243Z"
    }
   },
   "cell_type": "code",
   "outputs": [],
   "execution_count": 11,
   "source": [
    "def run_optuna(train_inputs, train_masks, train_labels, val_inputs, val_masks, val_labels, device):\n",
    "    def objective(trial):\n",
    "        params = {\n",
    "            'lr': trial.suggest_float('lr', 1e-5, 5e-5, log=True),\n",
    "            'weight_decay': trial.suggest_float('weight_decay', 1e-6, 1e-4, log=True),\n",
    "            'num_epochs': trial.suggest_int('num_epochs', 5, 10),\n",
    "            'hidden_dropout': trial.suggest_float('hidden_dropout', 0.2, 0.4),\n",
    "            'attention_dropout': trial.suggest_float('attention_dropout', 0.2, 0.4),\n",
    "            'batch_size': trial.suggest_categorical('batch_size', [32, 64]),\n",
    "            'grad_clip': trial.suggest_float('grad_clip', 0.5, 1.5),\n",
    "            'grad_accum_steps': trial.suggest_int('grad_accum_steps', 1, 2)\n",
    "        }\n",
    "\n",
    "        print(f\"\\n--- Starting trial with params: {params} ---\")\n",
    "        train_loader = create_dataloader(train_inputs, train_masks, train_labels, params['batch_size'], shuffle=True)\n",
    "        val_loader = create_dataloader(val_inputs, val_masks, val_labels, params['batch_size'])\n",
    "\n",
    "        config = DistilBertConfig.from_pretrained(\n",
    "            'distilbert-base-uncased',\n",
    "            num_labels=3,\n",
    "            hidden_dropout_prob=params['hidden_dropout'],\n",
    "            attention_probs_dropout_prob=params['attention_dropout']\n",
    "        )\n",
    "        model = DistilBertForSequenceClassification.from_pretrained('distilbert-base-uncased', config=config).to(device)\n",
    "\n",
    "        optimizer = optim.AdamW(model.parameters(), lr=params['lr'], weight_decay=params['weight_decay'])\n",
    "        total_steps = (len(train_loader) // params['grad_accum_steps']) * params['num_epochs']\n",
    "        scheduler = get_scheduler('linear', optimizer, num_warmup_steps=int(total_steps * 0.1), num_training_steps=total_steps)\n",
    "\n",
    "        best_f1 = 0\n",
    "        for epoch in range(params['num_epochs']):\n",
    "            train(model, train_loader, optimizer, scheduler, params, device)\n",
    "            acc, f1, _, _ = evaluate(model, val_loader, device)\n",
    "            print(f\"Trial {trial.number}, Epoch {epoch+1}/{params['num_epochs']} - Val Acc: {acc:.4f}, Val F1: {f1:.4f}\")\n",
    "            trial.report(f1, epoch)\n",
    "            if trial.should_prune():\n",
    "                print(\"Trial pruned!\")\n",
    "                raise optuna.TrialPruned()\n",
    "            best_f1 = max(best_f1, f1)\n",
    "\n",
    "        print(f\"Trial {trial.number} finished with best validation F1: {best_f1:.4f}\")\n",
    "        return best_f1\n",
    "\n",
    "\n",
    "    study = optuna.create_study(\n",
    "        direction='maximize',\n",
    "        sampler=optuna.samplers.TPESampler(seed=SEED),\n",
    "        pruner=optuna.pruners.MedianPruner(n_warmup_steps=1)\n",
    "    )\n",
    "    study.optimize(objective, n_trials=20, n_jobs=1, show_progress_bar=True)\n",
    "    best_params = study.best_params.copy()\n",
    "    print(\"\\nBest Hyperparameters Found:\")\n",
    "    print(best_params)\n",
    "    return best_params"
   ],
   "id": "d32acd78c26c22e9"
  },
  {
   "cell_type": "markdown",
   "id": "d4ce91b587343398",
   "metadata": {},
   "source": [
    "# 9. Final Training with Best Parameters"
   ]
  },
  {
   "cell_type": "code",
   "execution_count": 12,
   "id": "1741c042d01a1938",
   "metadata": {
    "ExecuteTime": {
     "start_time": "2025-02-27T15:27:36.011765Z"
    },
    "jupyter": {
     "is_executing": true
    },
    "tags": []
   },
   "outputs": [
    {
     "name": "stdout",
     "output_type": "stream",
     "text": [
      "Using device: cuda\n",
      "=== Sample reviews (raw) ===\n",
      "[\"**Company To AVOID** Disgusting management, 0 structure in the company, toxic CEO Remote working ( and when you start to know the boss, you understand why it's better like that ) The CEO. Certified bad boss, I invite you to do research on the guy and you'll understand the pattern, it's not his first company that crash because of big turnover and inexistent customer support. He's known by lawyers in Tel Aviv as much as his employees attack him in court. Strictly no opportunity for growth in this company, and the pay is anyway not attractive with no more than 12 days of holidays a year. He still didn't pay me the pension that he owe me. Real lunatic , you'll need a lot of patience and self control to handle the Ceo\", 'Software engineer Immense opportunity to learn and ownership of projects end to end No work life balance and no wfh options and 45hrs/week strict criteria', 'Not a very good environment to work 1. transport is good\\r\\n2. food provided by company\\r\\n3. perks 1. Internal politics\\r\\n2. work/life balance is poor']\n",
      "\n",
      "=== Sample reviews (cleaned) ===\n",
      "['company to avoid disgusting management 0 structure in the company toxic ceo remote working and when you start to know the boss you understand why its better like that the ceo certified bad boss i invite you to do research on the guy and youll understand the pattern its not his first company that crash because of big turnover and inexistent customer support hes known by lawyers in tel aviv as much as his employees attack him in court strictly no opportunity for growth in this company and the pay is anyway not attractive with no more than 12 days of holidays a year he still didnt pay me the pension that he owe me real lunatic youll need a lot of patience and self control to handle the ceo', 'software engineer immense opportunity to learn and ownership of projects end to end no work life balance and no wfh options and 45hrsweek strict criteria', 'not a very good environment to work 1 transport is good 2 food provided by company 3 perks 1 internal politics 2 worklife balance is poor']\n",
      "Loaded hyperparameters from best_params.json:\n",
      "{'lr': 4.932121003318589e-05, 'weight_decay': 2.628512998569822e-05, 'num_epochs': 6, 'hidden_dropout': 0.20639894870812836, 'attention_dropout': 0.3178675220676163, 'batch_size': 32, 'grad_clip': 1.0295497400961258, 'grad_accum_steps': 1}\n"
     ]
    }
   ],
   "source": [
    "device = torch.device('cuda' if torch.cuda.is_available() else 'cpu')\n",
    "print(f\"Using device: {device}\")\n",
    "\n",
    "df_sampled = load_and_preprocess_data()\n",
    "tokenized = tokenize_data(df_sampled)\n",
    "input_ids = tokenized['input_ids']\n",
    "attention_mask = tokenized['attention_mask']\n",
    "labels = torch.tensor(df_sampled['label'].values, dtype=torch.long)\n",
    "\n",
    "(train_inputs, train_masks, train_labels), (temp_inputs, temp_masks, temp_labels) = stratified_split(input_ids, attention_mask, labels)\n",
    "(val_inputs, val_masks, val_labels), (test_inputs, test_masks, test_labels) = stratified_split(temp_inputs, temp_masks, temp_labels, test_size=0.5)\n",
    "\n",
    "if USE_OPTUNA:\n",
    "    best_params = run_optuna(train_inputs, train_masks, train_labels, val_inputs, val_masks, val_labels, device)\n",
    "    with open(\"best_params_bert.json\", \"w\") as f:\n",
    "        json.dump(best_params, f)\n",
    "    print(\"Best hyperparameters saved to best_params_bert.json.\")\n",
    "else:\n",
    "    try:\n",
    "        with open(\"best_params_bert.json\", \"r\") as f:\n",
    "            best_params = json.load(f)\n",
    "        print(\"Loaded hyperparameters from best_params_bert.json:\")\n",
    "        print(best_params)\n",
    "    except FileNotFoundError:\n",
    "        best_params = default_params\n",
    "        print(\"\\nUsing default hyperparameters:\")\n",
    "        print(best_params)"
   ]
  },
  {
   "metadata": {},
   "cell_type": "code",
   "outputs": [],
   "execution_count": null,
   "source": [
    "train_loader = create_dataloader(train_inputs, train_masks, train_labels, best_params['batch_size'], shuffle=True)\n",
    "val_loader = create_dataloader(val_inputs, val_masks, val_labels, best_params['batch_size'])\n",
    "test_loader = create_dataloader(test_inputs, test_masks, test_labels, best_params['batch_size'])\n",
    "\n",
    "config = DistilBertConfig.from_pretrained(\n",
    "    'distilbert-base-uncased',\n",
    "    num_labels=3,\n",
    "    hidden_dropout_prob=best_params['hidden_dropout'],\n",
    "    attention_probs_dropout_prob=best_params['attention_dropout']\n",
    ")\n",
    "model = DistilBertForSequenceClassification.from_pretrained('distilbert-base-uncased', config=config).to(device)\n",
    "\n",
    "optimizer = optim.AdamW(model.parameters(), lr=best_params['lr'], weight_decay=best_params['weight_decay'])\n",
    "total_steps = (len(train_loader) // best_params['grad_accum_steps']) * best_params['num_epochs']\n",
    "scheduler = get_scheduler('linear', optimizer, num_warmup_steps=int(total_steps * 0.1), num_training_steps=total_steps)"
   ],
   "id": "3cf3d0621ff8ce17"
  },
  {
   "cell_type": "code",
   "execution_count": 13,
   "id": "92e8b784-073d-47ef-abc6-25a8cf00f051",
   "metadata": {
    "tags": []
   },
   "outputs": [
    {
     "data": {
      "application/vnd.jupyter.widget-view+json": {
       "model_id": "628844ef8eb143d69d8238ba3211f6f8",
       "version_major": 2,
       "version_minor": 0
      },
      "text/plain": [
       "model.safetensors:   0%|          | 0.00/268M [00:00<?, ?B/s]"
      ]
     },
     "metadata": {},
     "output_type": "display_data"
    },
    {
     "name": "stderr",
     "output_type": "stream",
     "text": [
      "Some weights of DistilBertForSequenceClassification were not initialized from the model checkpoint at distilbert-base-uncased and are newly initialized: ['classifier.bias', 'classifier.weight', 'pre_classifier.bias', 'pre_classifier.weight']\n",
      "You should probably TRAIN this model on a down-stream task to be able to use it for predictions and inference.\n"
     ]
    },
    {
     "data": {
      "application/vnd.jupyter.widget-view+json": {
       "model_id": "995b16a60eac4f1daefae740860ac99c",
       "version_major": 2,
       "version_minor": 0
      },
      "text/plain": [
       "Training:   0%|          | 0/1641 [00:00<?, ?it/s]"
      ]
     },
     "metadata": {},
     "output_type": "display_data"
    },
    {
     "name": "stdout",
     "output_type": "stream",
     "text": [
      "Epoch 1: Train Loss = 0.6244, Val Acc = 0.8282, Val F1 = 0.8286\n"
     ]
    },
    {
     "data": {
      "application/vnd.jupyter.widget-view+json": {
       "model_id": "0673984e92f54443a9eb79d44c258f7c",
       "version_major": 2,
       "version_minor": 0
      },
      "text/plain": [
       "Training:   0%|          | 0/1641 [00:00<?, ?it/s]"
      ]
     },
     "metadata": {},
     "output_type": "display_data"
    },
    {
     "name": "stdout",
     "output_type": "stream",
     "text": [
      "Epoch 2: Train Loss = 0.3960, Val Acc = 0.8546, Val F1 = 0.8550\n"
     ]
    },
    {
     "data": {
      "application/vnd.jupyter.widget-view+json": {
       "model_id": "11a7dc2117e946b8822f98b9f8dd09fb",
       "version_major": 2,
       "version_minor": 0
      },
      "text/plain": [
       "Training:   0%|          | 0/1641 [00:00<?, ?it/s]"
      ]
     },
     "metadata": {},
     "output_type": "display_data"
    },
    {
     "name": "stdout",
     "output_type": "stream",
     "text": [
      "Epoch 3: Train Loss = 0.2724, Val Acc = 0.8716, Val F1 = 0.8721\n"
     ]
    },
    {
     "data": {
      "application/vnd.jupyter.widget-view+json": {
       "model_id": "6f0ec02e71f444f5990420e2402e5c02",
       "version_major": 2,
       "version_minor": 0
      },
      "text/plain": [
       "Training:   0%|          | 0/1641 [00:00<?, ?it/s]"
      ]
     },
     "metadata": {},
     "output_type": "display_data"
    },
    {
     "name": "stderr",
     "output_type": "stream",
     "text": [
      "Exception ignored in: <function _MultiProcessingDataLoaderIter.__del__ at 0x7f0902fe5160>\n",
      "Traceback (most recent call last):\n",
      "  File \"/usr/local/lib64/python3.8/site-packages/torch/utils/data/dataloader.py\", line 1478, in __del__\n",
      "    self._shutdown_workers()\n",
      "  File \"/usr/local/lib64/python3.8/site-packages/torch/utils/data/dataloader.py\", line 1461, in _shutdown_workers\n",
      "    if w.is_alive():\n",
      "  File \"/usr/lib64/python3.8/multiprocessing/process.py\", line 160, in is_alive\n",
      "    assert self._parent_pid == os.getpid(), 'can only test a child process'\n",
      ": AssertionErrorcan only test a child process\n",
      "Exception ignored in: <function _MultiProcessingDataLoaderIter.__del__ at 0x7f0902fe5160>\n",
      "Traceback (most recent call last):\n",
      "  File \"/usr/local/lib64/python3.8/site-packages/torch/utils/data/dataloader.py\", line 1478, in __del__\n",
      "    self._shutdown_workers()\n",
      "  File \"/usr/local/lib64/python3.8/site-packages/torch/utils/data/dataloader.py\", line 1461, in _shutdown_workers\n",
      "    if w.is_alive():\n",
      "  File \"/usr/lib64/python3.8/multiprocessing/process.py\", line 160, in is_alive\n",
      "    assert self._parent_pid == os.getpid(), 'can only test a child process'\n",
      "AssertionError: can only test a child process\n",
      "Exception ignored in: <function _MultiProcessingDataLoaderIter.__del__ at 0x7f0902fe5160>\n",
      "Traceback (most recent call last):\n",
      "  File \"/usr/local/lib64/python3.8/site-packages/torch/utils/data/dataloader.py\", line 1478, in __del__\n",
      "    self._shutdown_workers()\n",
      "  File \"/usr/local/lib64/python3.8/site-packages/torch/utils/data/dataloader.py\", line 1461, in _shutdown_workers\n",
      "    if w.is_alive():\n",
      "  File \"/usr/lib64/python3.8/multiprocessing/process.py\", line 160, in is_alive\n",
      "    assert self._parent_pid == os.getpid(), 'can only test a child process'\n",
      "AssertionError: can only test a child process\n",
      "Exception ignored in: <function _MultiProcessingDataLoaderIter.__del__ at 0x7f0902fe5160>\n",
      "Traceback (most recent call last):\n",
      "  File \"/usr/local/lib64/python3.8/site-packages/torch/utils/data/dataloader.py\", line 1478, in __del__\n",
      "    self._shutdown_workers()\n",
      "  File \"/usr/local/lib64/python3.8/site-packages/torch/utils/data/dataloader.py\", line 1461, in _shutdown_workers\n",
      "    if w.is_alive():\n",
      "  File \"/usr/lib64/python3.8/multiprocessing/process.py\", line 160, in is_alive\n",
      "    assert self._parent_pid == os.getpid(), 'can only test a child process'\n",
      "AssertionError: can only test a child process\n",
      "Exception ignored in: <function _MultiProcessingDataLoaderIter.__del__ at 0x7f0902fe5160>\n",
      "Traceback (most recent call last):\n",
      "  File \"/usr/local/lib64/python3.8/site-packages/torch/utils/data/dataloader.py\", line 1478, in __del__\n",
      "    self._shutdown_workers()\n",
      "  File \"/usr/local/lib64/python3.8/site-packages/torch/utils/data/dataloader.py\", line 1461, in _shutdown_workers\n",
      "    if w.is_alive():\n",
      "  File \"/usr/lib64/python3.8/multiprocessing/process.py\", line 160, in is_alive\n",
      "    assert self._parent_pid == os.getpid(), 'can only test a child process'\n",
      "AssertionError: can only test a child process\n",
      "Exception ignored in: <function _MultiProcessingDataLoaderIter.__del__ at 0x7f0902fe5160>\n",
      "Traceback (most recent call last):\n",
      "  File \"/usr/local/lib64/python3.8/site-packages/torch/utils/data/dataloader.py\", line 1478, in __del__\n",
      "    self._shutdown_workers()\n",
      "  File \"/usr/local/lib64/python3.8/site-packages/torch/utils/data/dataloader.py\", line 1461, in _shutdown_workers\n",
      "    if w.is_alive():\n",
      "  File \"/usr/lib64/python3.8/multiprocessing/process.py\", line 160, in is_alive\n",
      "    assert self._parent_pid == os.getpid(), 'can only test a child process'\n",
      "AssertionError: can only test a child process\n"
     ]
    },
    {
     "name": "stdout",
     "output_type": "stream",
     "text": [
      "Epoch 4: Train Loss = 0.1742, Val Acc = 0.8688, Val F1 = 0.8683\n"
     ]
    },
    {
     "data": {
      "application/vnd.jupyter.widget-view+json": {
       "model_id": "afe507d200c54c75a697adcaa2b5e0a1",
       "version_major": 2,
       "version_minor": 0
      },
      "text/plain": [
       "Training:   0%|          | 0/1641 [00:00<?, ?it/s]"
      ]
     },
     "metadata": {},
     "output_type": "display_data"
    },
    {
     "name": "stdout",
     "output_type": "stream",
     "text": [
      "Epoch 5: Train Loss = 0.1144, Val Acc = 0.8789, Val F1 = 0.8790\n"
     ]
    },
    {
     "data": {
      "application/vnd.jupyter.widget-view+json": {
       "model_id": "e5c4ed3ba684498fbddb8768a6786ce5",
       "version_major": 2,
       "version_minor": 0
      },
      "text/plain": [
       "Training:   0%|          | 0/1641 [00:00<?, ?it/s]"
      ]
     },
     "metadata": {},
     "output_type": "display_data"
    },
    {
     "name": "stdout",
     "output_type": "stream",
     "text": [
      "Epoch 6: Train Loss = 0.0700, Val Acc = 0.8808, Val F1 = 0.8808\n"
     ]
    }
   ],
   "source": [
    "train_losses = []\n",
    "val_accuracies = []\n",
    "val_f1_scores = []\n",
    "best_val_f1 = 0\n",
    "patience_counter = 0\n",
    "\n",
    "for epoch in range(best_params['num_epochs']):\n",
    "    train_loss = train(model, train_loader, optimizer, scheduler, best_params, device)\n",
    "    train_losses.append(train_loss)\n",
    "    \n",
    "    acc, f1, _, _ = evaluate(model, val_loader, device)\n",
    "    val_accuracies.append(acc)\n",
    "    val_f1_scores.append(f1)\n",
    "    \n",
    "    print(f\"Epoch {epoch+1}: Train Loss = {train_loss:.4f}, Val Acc = {acc:.4f}, Val F1 = {f1:.4f}\")\n",
    "    \n",
    "    if f1 > best_val_f1:\n",
    "        best_val_f1 = f1\n",
    "        patience_counter = 0\n",
    "        torch.save(model.state_dict(), 'best_uncased_bert_model.pth')\n",
    "    else:\n",
    "        patience_counter += 1\n",
    "        if patience_counter >= 3:\n",
    "            print(\"Early stopping triggered\")\n",
    "            break"
   ]
  },
  {
   "cell_type": "markdown",
   "id": "382116e60014fd3d",
   "metadata": {},
   "source": "# 10. Training Graphs"
  },
  {
   "cell_type": "code",
   "execution_count": 14,
   "id": "1706f0d45edfed70",
   "metadata": {
    "ExecuteTime": {
     "end_time": "2025-02-27T15:23:44.992115Z",
     "start_time": "2025-02-27T15:23:44.367799Z"
    }
   },
   "outputs": [
    {
     "data": {
      "image/png": "[encoded data removed]",
      "text/plain": [
       "<Figure size 1200x500 with 2 Axes>"
      ]
     },
     "metadata": {},
     "output_type": "display_data"
    }
   ],
   "source": [
    "plt.figure(figsize=(12, 5))\n",
    "plt.subplot(1, 2, 1)\n",
    "plt.plot(train_losses, label='Training Loss', color='blue', marker='o')\n",
    "plt.title('Training Loss Over Epochs')\n",
    "plt.xlabel('Epoch')\n",
    "plt.ylabel('Loss')\n",
    "plt.legend()\n",
    "\n",
    "plt.subplot(1, 2, 2)\n",
    "plt.plot(val_f1_scores, label='Validation F1', color='green', marker='o')\n",
    "plt.title('Validation F1 Over Epochs')\n",
    "plt.xlabel('Epoch')\n",
    "plt.ylabel('F1 Score')\n",
    "plt.legend()\n",
    "\n",
    "plt.tight_layout()\n",
    "plt.show()"
   ]
  },
  {
   "cell_type": "markdown",
   "id": "599462f7caf29c74",
   "metadata": {},
   "source": "# 11. Final Evaluation"
  },
  {
   "cell_type": "code",
   "execution_count": 15,
   "id": "dc70d818754a496f",
   "metadata": {
    "ExecuteTime": {
     "end_time": "2025-02-27T15:26:41.682547Z",
     "start_time": "2025-02-27T15:26:24.806424Z"
    }
   },
   "outputs": [
    {
     "name": "stdout",
     "output_type": "stream",
     "text": [
      "Test Accuracy: 0.8828\n",
      "Test Precision: 0.8837\n",
      "Test Recall: 0.8828\n",
      "Test F1 Score: 0.8827\n"
     ]
    },
    {
     "data": {
      "image/png": "[encoded data removed]",
      "text/plain": [
       "<Figure size 800x600 with 2 Axes>"
      ]
     },
     "metadata": {},
     "output_type": "display_data"
    }
   ],
   "source": [
    "model.load_state_dict(torch.load('best_uncased_bert_model.pth'))\n",
    "cm, test_acc, test_f1, test_precision, test_recall = evaluate_with_metrics(model, test_loader, device)\n",
    "\n",
    "plt.figure(figsize=(8, 6))\n",
    "sns.heatmap(cm, annot=True, fmt='d', cmap='Blues',\n",
    "            xticklabels=['Negative', 'Neutral', 'Positive'],\n",
    "            yticklabels=['Negative', 'Neutral', 'Positive'])\n",
    "plt.title(f'Confusion Matrix (Test Accuracy: {test_acc:.2%})')\n",
    "plt.xlabel('Predicted Label')\n",
    "plt.ylabel('True Label')\n",
    "plt.show()"
   ]
  },
  {
   "cell_type": "markdown",
   "id": "83bb861b0d679b2b",
   "metadata": {},
   "source": "# 12. Save Model"
  },
  {
   "cell_type": "code",
   "execution_count": 16,
   "id": "2005665b44f9cf2a",
   "metadata": {},
   "outputs": [
    {
     "data": {
      "text/plain": [
       "('best_uncased_bert_model_data2/tokenizer_config.json',\n",
       " 'best_uncased_bert_model_data2/special_tokens_map.json',\n",
       " 'best_uncased_bert_model_data2/vocab.txt',\n",
       " 'best_uncased_bert_model_data2/added_tokens.json')"
      ]
     },
     "execution_count": 16,
     "metadata": {},
     "output_type": "execute_result"
    }
   ],
   "source": [
    "model.save_pretrained('distil_bert_model_data')\n",
    "tokenizer.save_pretrained('distil_bert_model_data')"
   ]
  }
 ],
 "metadata": {
  "kernelspec": {
   "display_name": "Python 3 (ipykernel)",
   "language": "python",
   "name": "python3"
  },
  "language_info": {
   "codemirror_mode": {
    "name": "ipython",
    "version": 3
   },
   "file_extension": ".py",
   "mimetype": "text/x-python",
   "name": "python",
   "nbconvert_exporter": "python",
   "pygments_lexer": "ipython3",
   "version": "3.8.20"
  }
 },
 "nbformat": 4,
 "nbformat_minor": 5
}
