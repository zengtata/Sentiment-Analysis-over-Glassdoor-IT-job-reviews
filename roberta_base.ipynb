{
 "cells": [
  {
   "cell_type": "markdown",
   "id": "1f44718881bac07f",
   "metadata": {},
   "source": "# 1. Imports"
  },
  {
   "cell_type": "code",
   "execution_count": 7,
   "id": "44b0de81-685a-4da0-8481-a393cc0082ce",
   "metadata": {
    "collapsed": true,
    "jupyter": {
     "outputs_hidden": true
    },
    "tags": []
   },
   "outputs": [
    {
     "name": "stdout",
     "output_type": "stream",
     "text": [
      "Defaulting to user installation because normal site-packages is not writeable\n",
      "Requirement already satisfied: torch in /usr/local/lib64/python3.8/site-packages (2.1.1)\n",
      "Requirement already satisfied: numpy in /usr/local/lib64/python3.8/site-packages (1.24.3)\n",
      "Requirement already satisfied: matplotlib in /usr/local/lib64/python3.8/site-packages (3.7.3)\n",
      "Requirement already satisfied: pandas in /usr/local/lib64/python3.8/site-packages (2.0.3)\n",
      "Requirement already satisfied: seaborn in /usr/local/lib/python3.8/site-packages (0.13.2)\n",
      "Requirement already satisfied: scikit-learn in /usr/local/lib64/python3.8/site-packages (1.3.2)\n",
      "Requirement already satisfied: tqdm in /usr/local/lib/python3.8/site-packages (4.67.1)\n",
      "Requirement already satisfied: transformers in /usr/local/lib/python3.8/site-packages (4.46.3)\n",
      "Requirement already satisfied: optuna in /home/ec2-user/.local/lib/python3.8/site-packages (4.2.1)\n",
      "Requirement already satisfied: filelock in /usr/local/lib/python3.8/site-packages (from torch) (3.16.1)\n",
      "Requirement already satisfied: typing-extensions in /usr/local/lib/python3.8/site-packages (from torch) (4.5.0)\n",
      "Requirement already satisfied: sympy in /usr/local/lib/python3.8/site-packages (from torch) (1.12)\n",
      "Requirement already satisfied: networkx in /usr/local/lib/python3.8/site-packages (from torch) (3.1)\n",
      "Requirement already satisfied: jinja2 in /usr/local/lib/python3.8/site-packages (from torch) (3.1.2)\n",
      "Requirement already satisfied: fsspec in /usr/local/lib/python3.8/site-packages (from torch) (2024.9.0)\n",
      "Requirement already satisfied: nvidia-cuda-nvrtc-cu12==12.1.105 in /usr/local/lib/python3.8/site-packages (from torch) (12.1.105)\n",
      "Requirement already satisfied: nvidia-cuda-runtime-cu12==12.1.105 in /usr/local/lib/python3.8/site-packages (from torch) (12.1.105)\n",
      "Requirement already satisfied: nvidia-cuda-cupti-cu12==12.1.105 in /usr/local/lib/python3.8/site-packages (from torch) (12.1.105)\n",
      "Requirement already satisfied: nvidia-cudnn-cu12==8.9.2.26 in /usr/local/lib/python3.8/site-packages (from torch) (8.9.2.26)\n",
      "Requirement already satisfied: nvidia-cublas-cu12==12.1.3.1 in /usr/local/lib/python3.8/site-packages (from torch) (12.1.3.1)\n",
      "Requirement already satisfied: nvidia-cufft-cu12==11.0.2.54 in /usr/local/lib/python3.8/site-packages (from torch) (11.0.2.54)\n",
      "Requirement already satisfied: nvidia-curand-cu12==10.3.2.106 in /usr/local/lib/python3.8/site-packages (from torch) (10.3.2.106)\n",
      "Requirement already satisfied: nvidia-cusolver-cu12==11.4.5.107 in /usr/local/lib/python3.8/site-packages (from torch) (11.4.5.107)\n",
      "Requirement already satisfied: nvidia-cusparse-cu12==12.1.0.106 in /usr/local/lib/python3.8/site-packages (from torch) (12.1.0.106)\n",
      "Requirement already satisfied: nvidia-nccl-cu12==2.18.1 in /usr/local/lib/python3.8/site-packages (from torch) (2.18.1)\n",
      "Requirement already satisfied: nvidia-nvtx-cu12==12.1.105 in /usr/local/lib/python3.8/site-packages (from torch) (12.1.105)\n",
      "Requirement already satisfied: triton==2.1.0 in /usr/local/lib64/python3.8/site-packages (from torch) (2.1.0)\n",
      "Requirement already satisfied: nvidia-nvjitlink-cu12 in /usr/local/lib/python3.8/site-packages (from nvidia-cusolver-cu12==11.4.5.107->torch) (12.8.61)\n",
      "Requirement already satisfied: contourpy>=1.0.1 in /usr/local/lib64/python3.8/site-packages (from matplotlib) (1.1.1)\n",
      "Requirement already satisfied: cycler>=0.10 in /usr/local/lib/python3.8/site-packages (from matplotlib) (0.12.1)\n",
      "Requirement already satisfied: fonttools>=4.22.0 in /usr/local/lib64/python3.8/site-packages (from matplotlib) (4.44.0)\n",
      "Requirement already satisfied: kiwisolver>=1.0.1 in /usr/local/lib64/python3.8/site-packages (from matplotlib) (1.4.5)\n",
      "Requirement already satisfied: packaging>=20.0 in /usr/local/lib/python3.8/site-packages (from matplotlib) (21.3)\n",
      "Requirement already satisfied: pillow>=6.2.0 in /usr/local/lib64/python3.8/site-packages (from matplotlib) (10.0.1)\n",
      "Requirement already satisfied: pyparsing>=2.3.1 in /usr/local/lib/python3.8/site-packages (from matplotlib) (3.1.1)\n",
      "Requirement already satisfied: python-dateutil>=2.7 in /usr/local/lib/python3.8/site-packages (from matplotlib) (2.8.2)\n",
      "Requirement already satisfied: importlib-resources>=3.2.0 in /usr/local/lib/python3.8/site-packages (from matplotlib) (6.1.0)\n",
      "Requirement already satisfied: pytz>=2020.1 in /usr/local/lib/python3.8/site-packages (from pandas) (2023.3.post1)\n",
      "Requirement already satisfied: tzdata>=2022.1 in /usr/local/lib/python3.8/site-packages (from pandas) (2023.3)\n",
      "Requirement already satisfied: scipy>=1.5.0 in /usr/local/lib64/python3.8/site-packages (from scikit-learn) (1.10.1)\n",
      "Requirement already satisfied: joblib>=1.1.1 in /usr/local/lib/python3.8/site-packages (from scikit-learn) (1.3.2)\n",
      "Requirement already satisfied: threadpoolctl>=2.0.0 in /usr/local/lib/python3.8/site-packages (from scikit-learn) (3.2.0)\n",
      "Requirement already satisfied: huggingface-hub<1.0,>=0.23.2 in /usr/local/lib/python3.8/site-packages (from transformers) (0.29.1)\n",
      "Requirement already satisfied: pyyaml>=5.1 in /usr/local/lib64/python3.8/site-packages (from transformers) (6.0.1)\n",
      "Requirement already satisfied: regex!=2019.12.17 in /usr/local/lib64/python3.8/site-packages (from transformers) (2024.11.6)\n",
      "Requirement already satisfied: requests in /usr/local/lib/python3.8/site-packages (from transformers) (2.32.3)\n",
      "Requirement already satisfied: tokenizers<0.21,>=0.20 in /usr/local/lib64/python3.8/site-packages (from transformers) (0.20.3)\n",
      "Requirement already satisfied: safetensors>=0.4.1 in /usr/local/lib64/python3.8/site-packages (from transformers) (0.5.3)\n",
      "Requirement already satisfied: alembic>=1.5.0 in /usr/local/lib/python3.8/site-packages (from optuna) (1.14.1)\n",
      "Requirement already satisfied: colorlog in /home/ec2-user/.local/lib/python3.8/site-packages (from optuna) (6.9.0)\n",
      "Requirement already satisfied: sqlalchemy>=1.4.2 in /usr/local/lib64/python3.8/site-packages (from optuna) (2.0.24)\n",
      "Requirement already satisfied: Mako in /usr/local/lib/python3.8/site-packages (from alembic>=1.5.0->optuna) (1.3.9)\n",
      "Requirement already satisfied: importlib-metadata in /usr/local/lib/python3.8/site-packages (from alembic>=1.5.0->optuna) (6.8.0)\n",
      "Requirement already satisfied: zipp>=3.1.0 in /usr/local/lib/python3.8/site-packages (from importlib-resources>=3.2.0->matplotlib) (3.17.0)\n",
      "Requirement already satisfied: six>=1.5 in /usr/local/lib/python3.8/site-packages (from python-dateutil>=2.7->matplotlib) (1.16.0)\n",
      "Requirement already satisfied: greenlet!=0.4.17 in /usr/local/lib64/python3.8/site-packages (from sqlalchemy>=1.4.2->optuna) (3.1.1)\n",
      "Requirement already satisfied: MarkupSafe>=2.0 in /usr/local/lib64/python3.8/site-packages (from jinja2->torch) (2.1.3)\n",
      "Requirement already satisfied: charset-normalizer<4,>=2 in /usr/local/lib64/python3.8/site-packages (from requests->transformers) (3.3.2)\n",
      "Requirement already satisfied: idna<4,>=2.5 in /usr/local/lib/python3.8/site-packages (from requests->transformers) (3.4)\n",
      "Requirement already satisfied: urllib3<3,>=1.21.1 in /usr/local/lib/python3.8/site-packages (from requests->transformers) (1.26.18)\n",
      "Requirement already satisfied: certifi>=2017.4.17 in /usr/local/lib/python3.8/site-packages (from requests->transformers) (2023.7.22)\n",
      "Requirement already satisfied: mpmath>=0.19 in /usr/local/lib/python3.8/site-packages (from sympy->torch) (1.3.0)\n",
      "Note: you may need to restart the kernel to use updated packages.\n"
     ]
    }
   ],
   "source": [
    "%pip install torch numpy matplotlib pandas seaborn scikit-learn tqdm transformers optuna"
   ]
  },
  {
   "cell_type": "code",
   "execution_count": 4,
   "id": "initial_id",
   "metadata": {
    "ExecuteTime": {
     "end_time": "2025-03-03T22:11:03.270328Z",
     "start_time": "2025-03-03T22:10:59.906211Z"
    }
   },
   "outputs": [
    {
     "name": "stderr",
     "output_type": "stream",
     "text": [
      "Matplotlib is building the font cache; this may take a moment.\n",
      "2025-03-04 18:07:50.670153: I tensorflow/core/util/port.cc:110] oneDNN custom operations are on. You may see slightly different numerical results due to floating-point round-off errors from different computation orders. To turn them off, set the environment variable `TF_ENABLE_ONEDNN_OPTS=0`.\n",
      "2025-03-04 18:08:14.220515: I tensorflow/core/platform/cpu_feature_guard.cc:182] This TensorFlow binary is optimized to use available CPU instructions in performance-critical operations.\n",
      "To enable the following instructions: AVX2 AVX512F AVX512_VNNI FMA, in other operations, rebuild TensorFlow with the appropriate compiler flags.\n",
      "2025-03-04 18:08:35.229716: W tensorflow/compiler/tf2tensorrt/utils/py_utils.cc:38] TF-TRT Warning: Could not find TensorRT\n"
     ]
    }
   ],
   "source": [
    "import re\n",
    "import string\n",
    "import torch\n",
    "import numpy as np\n",
    "import matplotlib.pyplot as plt\n",
    "import pandas as pd\n",
    "import seaborn as sns\n",
    "from sklearn.metrics import confusion_matrix, accuracy_score, f1_score, precision_score, recall_score\n",
    "from sklearn.model_selection import StratifiedShuffleSplit\n",
    "from torch import nn, optim\n",
    "from torch.utils.data import DataLoader, TensorDataset\n",
    "from tqdm.auto import tqdm\n",
    "from transformers import (\n",
    "    RobertaTokenizer,\n",
    "    RobertaForSequenceClassification,\n",
    "    RobertaConfig,\n",
    "    get_scheduler\n",
    ")\n",
    "import optuna\n",
    "import json"
   ]
  },
  {
   "cell_type": "code",
   "execution_count": 41,
   "id": "544349a6f2d327d7",
   "metadata": {
    "ExecuteTime": {
     "end_time": "2025-03-03T21:52:20.307389Z",
     "start_time": "2025-03-03T21:52:20.260835Z"
    }
   },
   "outputs": [],
   "source": [
    "# Set reproducibility\n",
    "SEED = 42\n",
    "torch.manual_seed(SEED)\n",
    "np.random.seed(SEED)\n",
    "torch.backends.cudnn.benchmark = True\n",
    "torch.backends.cudnn.deterministic = True"
   ]
  },
  {
   "cell_type": "markdown",
   "id": "ef2759b704f0f549",
   "metadata": {},
   "source": "# 2. Data Preprocessing"
  },
  {
   "cell_type": "code",
   "execution_count": 42,
   "id": "5e6fd5794e950662",
   "metadata": {
    "ExecuteTime": {
     "end_time": "2025-03-03T21:52:21.876327Z",
     "start_time": "2025-03-03T21:52:20.393473Z"
    }
   },
   "outputs": [
    {
     "name": "stdout",
     "output_type": "stream",
     "text": [
      "=== Sample reviews (raw) ===\n",
      "['Bond sucks everything Depends on your project\\r\\nGrowth for freshers Axway project has shifts\\r\\nTechnologies for freshers are decided randomly and not on merit', \"Good Salary with very poor management Good Teach People Good Lunch Good Building Bad Management So much additional deduction from salary Too far office Salary doesn't get in time Poor Hierarchy\", \"One of the worst jobs I've ever had. Miserable workplace - Work from home occasionally\\r\\n- Paid education - They hire from within, but only the most incompetent people\\r\\n- Management is severely disconnected from employees\\r\\n- Management has no clue about what employees do\\r\\n- Marketing managers don't seem to know anything about marketing!\\r\\n- Graphic design teams and writers are treated very very poorly by people who are not fit for their jobs\\r\\n- Sort of like working in the tobacco industry - they pretend there's nothing wrong with the status quo\"]\n",
      "\n",
      "=== Sample reviews (cleaned) ===\n",
      "['bond sucks everything depends on your project growth for freshers axway project has shifts technologies for freshers are decided randomly and not on merit', 'good salary with very poor management good teach people good lunch good building bad management so much additional deduction from salary too far office salary doesnt get in time poor hierarchy', 'one of the worst jobs ive ever had miserable workplace work from home occasionally paid education they hire from within but only the most incompetent people management is severely disconnected from employees management has no clue about what employees do marketing managers dont seem to know anything about marketing graphic design teams and writers are treated very very poorly by people who are not fit for their jobs sort of like working in the tobacco industry they pretend theres nothing wrong with the status quo']\n"
     ]
    }
   ],
   "source": [
    "def load_and_preprocess_data():\n",
    "    df = pd.read_csv('best_all_it_jobs.csv')\n",
    "    columns_to_keep = ['review_text', 'sentiment']\n",
    "    df = df[columns_to_keep].dropna(subset=['review_text'])\n",
    "\n",
    "    label_map = {\"Negative\": 0, \"Neutral\": 1, \"Positive\": 2}\n",
    "    df['label'] = df['sentiment'].map(label_map)\n",
    "\n",
    "    df_sampled = (df.groupby(\"sentiment\")\n",
    "                  .sample(n=25000, random_state=SEED, replace=True)\n",
    "                  .reset_index(drop=True))\n",
    "\n",
    "    print(\"=== Sample reviews (raw) ===\")\n",
    "    print(df_sampled['review_text'].head(3).to_list())\n",
    "\n",
    "    def clean_text(text):\n",
    "        text = str(text).lower()\n",
    "        text = re.sub(r'http\\S+|www\\S+', '', text)\n",
    "        text = re.sub(r'[{}]'.format(re.escape(string.punctuation)), '', text)\n",
    "        text = re.sub(r'\\s+', ' ', text).strip()\n",
    "        return text\n",
    "\n",
    "    df_sampled['cleaned_review'] = df_sampled['review_text'].apply(clean_text)\n",
    "    print(\"\\n=== Sample reviews (cleaned) ===\")\n",
    "    print(df_sampled['cleaned_review'].head(3).to_list())\n",
    "    return df_sampled\n",
    "\n",
    "df_sampled = load_and_preprocess_data()"
   ]
  },
  {
   "cell_type": "markdown",
   "id": "738ad22b4adfcf85",
   "metadata": {},
   "source": "# 3. Tokenization"
  },
  {
   "cell_type": "code",
   "execution_count": 43,
   "id": "d996af16de0ebae0",
   "metadata": {
    "ExecuteTime": {
     "end_time": "2025-03-03T21:52:25.152960Z",
     "start_time": "2025-03-03T21:52:21.884971Z"
    }
   },
   "outputs": [],
   "source": [
    "tokenizer = RobertaTokenizer.from_pretrained('roberta-base')\n",
    "\n",
    "def tokenize_data(df, max_length=256):\n",
    "    return tokenizer(\n",
    "        text=df['cleaned_review'].tolist(),\n",
    "        padding='max_length',\n",
    "        truncation=True,\n",
    "        max_length=max_length,\n",
    "        return_tensors='pt',\n",
    "        add_special_tokens=True,\n",
    "        return_attention_mask=True,\n",
    "        return_token_type_ids=False\n",
    "    )"
   ]
  },
  {
   "cell_type": "code",
   "execution_count": 44,
   "id": "a79a4f5f2a93485d",
   "metadata": {
    "ExecuteTime": {
     "end_time": "2025-03-03T21:52:29.333713Z",
     "start_time": "2025-03-03T21:52:25.159541Z"
    }
   },
   "outputs": [],
   "source": [
    "tokenized = tokenize_data(df_sampled)\n",
    "input_ids = tokenized['input_ids']\n",
    "attention_mask = tokenized['attention_mask']\n",
    "labels = torch.tensor(df_sampled['label'].values, dtype=torch.long)"
   ]
  },
  {
   "cell_type": "markdown",
   "id": "d9401f93fa08bc1e",
   "metadata": {},
   "source": "# 4. Data Splitting"
  },
  {
   "cell_type": "code",
   "execution_count": 45,
   "id": "194a202cbb5c4f29",
   "metadata": {
    "ExecuteTime": {
     "end_time": "2025-03-03T21:52:29.346539Z",
     "start_time": "2025-03-03T21:52:29.342670Z"
    }
   },
   "outputs": [],
   "source": [
    "def stratified_split(inputs, masks, labels, test_size=0.3):\n",
    "    sss = StratifiedShuffleSplit(n_splits=1, test_size=test_size, random_state=SEED)\n",
    "    train_idx, temp_idx = next(sss.split(inputs, labels))\n",
    "    return (inputs[train_idx], masks[train_idx], labels[train_idx]), \\\n",
    "           (inputs[temp_idx], masks[temp_idx], labels[temp_idx])"
   ]
  },
  {
   "cell_type": "code",
   "execution_count": 46,
   "id": "be2b4bbd0bd3d72",
   "metadata": {
    "ExecuteTime": {
     "end_time": "2025-03-03T21:52:29.376068Z",
     "start_time": "2025-03-03T21:52:29.352725Z"
    }
   },
   "outputs": [],
   "source": [
    "(train_inputs, train_masks, train_labels), (temp_inputs, temp_masks, temp_labels) = stratified_split(input_ids, attention_mask, labels)\n",
    "(val_inputs, val_masks, val_labels), (test_inputs, test_masks, test_labels) = stratified_split(temp_inputs, temp_masks, temp_labels, test_size=0.5)"
   ]
  },
  {
   "cell_type": "markdown",
   "id": "9b605b6b7e900688",
   "metadata": {},
   "source": "# 5. DataLoader"
  },
  {
   "cell_type": "code",
   "execution_count": 47,
   "id": "39acf47bd3b28d56",
   "metadata": {
    "ExecuteTime": {
     "end_time": "2025-03-03T21:52:29.387428Z",
     "start_time": "2025-03-03T21:52:29.384464Z"
    }
   },
   "outputs": [],
   "source": [
    "def create_dataloader(inputs, masks, labels, batch_size, shuffle=False):\n",
    "    return DataLoader(\n",
    "        TensorDataset(inputs, masks, labels),\n",
    "        batch_size=batch_size,\n",
    "        shuffle=shuffle,\n",
    "        num_workers=4,\n",
    "        pin_memory=True,\n",
    "        prefetch_factor=2\n",
    "    )"
   ]
  },
  {
   "cell_type": "markdown",
   "id": "35366026c4e95e05",
   "metadata": {},
   "source": "# 6. Training Function"
  },
  {
   "cell_type": "code",
   "execution_count": 50,
   "id": "baf83bca25903e55",
   "metadata": {
    "ExecuteTime": {
     "end_time": "2025-03-03T21:58:37.768326Z",
     "start_time": "2025-03-03T21:58:37.761471Z"
    }
   },
   "outputs": [],
   "source": [
    "def train(model, train_loader, optimizer, scheduler, params, device):\n",
    "    model.train()\n",
    "    total_loss = 0\n",
    "    scaler = torch.cuda.amp.GradScaler()\n",
    "    optimizer.zero_grad()\n",
    "    for step, batch in enumerate(tqdm(train_loader, desc=\"Training\")):\n",
    "        inputs, masks, lbls = [t.to(device, non_blocking=True) for t in batch]\n",
    "        with torch.autocast(device_type='cuda', dtype=torch.float16):\n",
    "            outputs = model(inputs, attention_mask=masks, labels=lbls)\n",
    "            loss = outputs.loss / params['grad_accum_steps']\n",
    "        scaler.scale(loss).backward()\n",
    "        if (step + 1) % params['grad_accum_steps'] == 0:\n",
    "            scaler.unscale_(optimizer)\n",
    "            nn.utils.clip_grad_norm_(model.parameters(), params['grad_clip'])\n",
    "            scaler.step(optimizer)\n",
    "            scaler.update()\n",
    "            optimizer.zero_grad()\n",
    "            scheduler.step()\n",
    "        total_loss += loss.item() * params['grad_accum_steps']\n",
    "    return total_loss / len(train_loader)"
   ]
  },
  {
   "metadata": {},
   "cell_type": "markdown",
   "source": "# 7. Evaluation Function",
   "id": "7f1878a648a8a64b"
  },
  {
   "metadata": {
    "ExecuteTime": {
     "end_time": "2025-03-03T21:52:29.407067Z",
     "start_time": "2025-03-03T21:52:29.403346Z"
    }
   },
   "cell_type": "code",
   "outputs": [],
   "execution_count": 48,
   "source": [
    "def evaluate(model, val_loader, device):\n",
    "    model.eval()\n",
    "    all_preds, all_labels = [], []\n",
    "    with torch.no_grad(), torch.autocast(device_type='cuda', dtype=torch.float16):\n",
    "        for batch in val_loader:\n",
    "            inputs, masks, lbls = [t.to(device, non_blocking=True) for t in batch]\n",
    "            logits = model(inputs, attention_mask=masks).logits\n",
    "            preds = logits.argmax(dim=-1)\n",
    "            all_preds.extend(preds.cpu().numpy())\n",
    "            all_labels.extend(lbls.cpu().numpy())\n",
    "    acc = accuracy_score(all_labels, all_preds)\n",
    "    f1 = f1_score(all_labels, all_preds, average='macro')\n",
    "    precision = precision_score(all_labels, all_preds, average='macro')\n",
    "    recall = recall_score(all_labels, all_preds, average='macro')\n",
    "    return acc, f1, precision, recall"
   ],
   "id": "326bd17aad83e1ac"
  },
  {
   "metadata": {
    "ExecuteTime": {
     "end_time": "2025-03-03T21:52:29.443757Z",
     "start_time": "2025-03-03T21:52:29.439931Z"
    }
   },
   "cell_type": "code",
   "outputs": [],
   "execution_count": 49,
   "source": [
    "def evaluate_with_metrics(model, test_loader, device):\n",
    "    model.eval()\n",
    "    all_preds, all_labels = [], []\n",
    "    with torch.no_grad(), torch.autocast(device_type='cuda', dtype=torch.float16):\n",
    "        for batch in test_loader:\n",
    "            inputs, masks, lbls = [t.to(device, non_blocking=True) for t in batch]\n",
    "            logits = model(inputs, attention_mask=masks).logits\n",
    "            preds = logits.argmax(dim=-1)\n",
    "            all_preds.extend(preds.cpu().numpy())\n",
    "            all_labels.extend(lbls.cpu().numpy())\n",
    "    acc = accuracy_score(all_labels, all_preds)\n",
    "    f1 = f1_score(all_labels, all_preds, average='macro')\n",
    "    precision = precision_score(all_labels, all_preds, average='macro')\n",
    "    recall = recall_score(all_labels, all_preds, average='macro')\n",
    "    cm = confusion_matrix(all_labels, all_preds)\n",
    "    print(f\"Test Accuracy: {acc:.4f}\")\n",
    "    print(f\"Test Precision: {precision:.4f}\")\n",
    "    print(f\"Test Recall: {recall:.4f}\")\n",
    "    print(f\"Test F1 Score: {f1:.4f}\")\n",
    "    return cm, acc, f1, precision, recall"
   ],
   "id": "14693d0ee33f7544"
  },
  {
   "cell_type": "markdown",
   "id": "d001c42d9ca7ad78",
   "metadata": {},
   "source": [
    "# 8. Hyperparameter Tuning with Optuna"
   ]
  },
  {
   "cell_type": "code",
   "execution_count": 51,
   "id": "1ae60460147f2651",
   "metadata": {
    "ExecuteTime": {
     "end_time": "2025-03-03T21:58:38.792116Z",
     "start_time": "2025-03-03T21:58:38.785570Z"
    }
   },
   "outputs": [],
   "source": [
    "USE_OPTUNA = False\n",
    "\n",
    "default_params = {\n",
    "    'lr': 3e-5,\n",
    "    'weight_decay': 1e-5,\n",
    "    'num_epochs': 5,\n",
    "    'hidden_dropout': 0.3,\n",
    "    'attention_dropout': 0.3,\n",
    "    'batch_size': 32,\n",
    "    'grad_clip': 1.0,\n",
    "    'grad_accum_steps': 1\n",
    "}"
   ]
  },
  {
   "cell_type": "code",
   "execution_count": 52,
   "id": "858b2b6f2fdebe72",
   "metadata": {
    "ExecuteTime": {
     "end_time": "2025-03-03T21:58:39.320721Z",
     "start_time": "2025-03-03T21:58:39.313132Z"
    }
   },
   "outputs": [],
   "source": [
    "def run_optuna(train_inputs, train_masks, train_labels, val_inputs, val_masks, val_labels, device):\n",
    "    from transformers import RobertaConfig, RobertaForSequenceClassification\n",
    "\n",
    "    def objective(trial):\n",
    "        params = {\n",
    "            'lr': trial.suggest_float('lr', 1e-5, 3e-5, log=True),\n",
    "            'weight_decay': trial.suggest_float('weight_decay', 1e-6, 1e-4, log=True),\n",
    "            'num_epochs': trial.suggest_int('num_epochs', 4, 8),\n",
    "            'hidden_dropout': trial.suggest_float('hidden_dropout', 0.1, 0.3),\n",
    "            'attention_dropout': trial.suggest_float('attention_dropout', 0.1, 0.3),\n",
    "            'batch_size': trial.suggest_categorical('batch_size', [16, 32]),\n",
    "            'grad_clip': trial.suggest_float('grad_clip', 0.5, 1.0),\n",
    "            'grad_accum_steps': trial.suggest_int('grad_accum_steps', 1, 2)\n",
    "        }\n",
    "\n",
    "        print(f\"\\n--- Starting trial with params: {params} ---\")\n",
    "        train_loader = create_dataloader(train_inputs, train_masks, train_labels, params['batch_size'], shuffle=True)\n",
    "        val_loader = create_dataloader(val_inputs, val_masks, val_labels, params['batch_size'])\n",
    "\n",
    "        config = RobertaConfig.from_pretrained(\n",
    "            'roberta-base',\n",
    "            num_labels=3,\n",
    "            hidden_dropout_prob=params['hidden_dropout'],\n",
    "            attention_probs_dropout_prob=params['attention_dropout']\n",
    "        )\n",
    "        model = RobertaForSequenceClassification.from_pretrained('roberta-base', config=config).to(device)\n",
    "\n",
    "        optimizer = optim.AdamW(model.parameters(), lr=params['lr'], weight_decay=params['weight_decay'])\n",
    "        total_steps = (len(train_loader) // params['grad_accum_steps']) * params['num_epochs']\n",
    "        scheduler = get_scheduler('linear', optimizer, num_warmup_steps=int(total_steps * 0.1), num_training_steps=total_steps)\n",
    "\n",
    "        best_f1 = 0\n",
    "        for epoch in range(params['num_epochs']):\n",
    "            train(model, train_loader, optimizer, scheduler, params, device)\n",
    "            acc, f1, _, _ = evaluate(model, val_loader, device)\n",
    "            print(f\"Trial {trial.number}, Epoch {epoch+1}/{params['num_epochs']} - Val Acc: {acc:.4f}, Val F1: {f1:.4f}\")\n",
    "            trial.report(f1, epoch)\n",
    "            if trial.should_prune():\n",
    "                print(\"Trial pruned!\")\n",
    "                raise optuna.TrialPruned()\n",
    "            best_f1 = max(best_f1, f1)\n",
    "\n",
    "        print(f\"Trial {trial.number} finished with best validation F1: {best_f1:.4f}\")\n",
    "        return best_f1\n",
    "\n",
    "    study = optuna.create_study(\n",
    "        direction='maximize',\n",
    "        sampler=optuna.samplers.TPESampler(seed=SEED),\n",
    "        pruner=optuna.pruners.MedianPruner(n_warmup_steps=1)\n",
    "    )\n",
    "    study.optimize(objective, n_trials=20, n_jobs=1, show_progress_bar=True)\n",
    "\n",
    "    best_params = study.best_params.copy()\n",
    "    print(\"\\nBest Hyperparameters Found:\")\n",
    "    print(best_params)\n",
    "    return best_params\n"
   ]
  },
  {
   "cell_type": "markdown",
   "id": "48caff23af13f7e1",
   "metadata": {},
   "source": [
    "# 9. Final Training with Best Parameters"
   ]
  },
  {
   "cell_type": "code",
   "execution_count": 53,
   "id": "64a17b4979a18c5d",
   "metadata": {
    "ExecuteTime": {
     "end_time": "2025-03-03T21:58:46.867054Z",
     "start_time": "2025-03-03T21:58:41.121200Z"
    },
    "tags": []
   },
   "outputs": [
    {
     "name": "stdout",
     "output_type": "stream",
     "text": [
      "Using device: cuda\n",
      "=== Sample reviews (raw) ===\n",
      "['Bond sucks everything Depends on your project\\r\\nGrowth for freshers Axway project has shifts\\r\\nTechnologies for freshers are decided randomly and not on merit', \"Good Salary with very poor management Good Teach People Good Lunch Good Building Bad Management So much additional deduction from salary Too far office Salary doesn't get in time Poor Hierarchy\", \"One of the worst jobs I've ever had. Miserable workplace - Work from home occasionally\\r\\n- Paid education - They hire from within, but only the most incompetent people\\r\\n- Management is severely disconnected from employees\\r\\n- Management has no clue about what employees do\\r\\n- Marketing managers don't seem to know anything about marketing!\\r\\n- Graphic design teams and writers are treated very very poorly by people who are not fit for their jobs\\r\\n- Sort of like working in the tobacco industry - they pretend there's nothing wrong with the status quo\"]\n",
      "\n",
      "=== Sample reviews (cleaned) ===\n",
      "['bond sucks everything depends on your project growth for freshers axway project has shifts technologies for freshers are decided randomly and not on merit', 'good salary with very poor management good teach people good lunch good building bad management so much additional deduction from salary too far office salary doesnt get in time poor hierarchy', 'one of the worst jobs ive ever had miserable workplace work from home occasionally paid education they hire from within but only the most incompetent people management is severely disconnected from employees management has no clue about what employees do marketing managers dont seem to know anything about marketing graphic design teams and writers are treated very very poorly by people who are not fit for their jobs sort of like working in the tobacco industry they pretend theres nothing wrong with the status quo']\n"
     ]
    },
    {
     "name": "stderr",
     "output_type": "stream",
     "text": [
      "Some weights of RobertaForSequenceClassification were not initialized from the model checkpoint at roberta-base and are newly initialized: ['classifier.dense.bias', 'classifier.dense.weight', 'classifier.out_proj.bias', 'classifier.out_proj.weight']\n",
      "You should probably TRAIN this model on a down-stream task to be able to use it for predictions and inference.\n"
     ]
    },
    {
     "name": "stdout",
     "output_type": "stream",
     "text": [
      "Loaded hyperparameters from best_params_bert.json:\n",
      "{'lr': 1.3974545876676635e-05, 'weight_decay': 1.5679933916723006e-06, 'num_epochs': 7, 'hidden_dropout': 0.18803049874792027, 'attention_dropout': 0.12440764696895577, 'batch_size': 16, 'grad_clip': 0.954660201039391, 'grad_accum_steps': 1}\n"
     ]
    }
   ],
   "source": [
    "device = torch.device('cuda' if torch.cuda.is_available() else 'cpu')\n",
    "print(f\"Using device: {device}\")\n",
    "\n",
    "df_sampled = load_and_preprocess_data()\n",
    "tokenized = tokenize_data(df_sampled)\n",
    "input_ids = tokenized['input_ids']\n",
    "attention_mask = tokenized['attention_mask']\n",
    "labels = torch.tensor(df_sampled['label'].values, dtype=torch.long)\n",
    "\n",
    "(train_inputs, train_masks, train_labels), (temp_inputs, temp_masks, temp_labels) = stratified_split(input_ids,\n",
    "                                                                                                     attention_mask,\n",
    "                                                                                                     labels)\n",
    "(val_inputs, val_masks, val_labels), (test_inputs, test_masks, test_labels) = stratified_split(temp_inputs, temp_masks,\n",
    "                                                                                               temp_labels,\n",
    "                                                                                               test_size=0.5)\n",
    "\n",
    "if USE_OPTUNA:\n",
    "    best_params = run_optuna(train_inputs, train_masks, train_labels, val_inputs, val_masks, val_labels, device)\n",
    "    with open(\"best_params_roberta.json\", \"w\") as f:\n",
    "        json.dump(best_params, f)\n",
    "    print(\"Best hyperparameters saved to best_params_bert.json.\")\n",
    "else:\n",
    "    try:\n",
    "        with open(\"best_params_roberta.json\", \"r\") as f:\n",
    "            best_params = json.load(f)\n",
    "        print(\"Loaded hyperparameters from best_params_bert.json:\")\n",
    "        print(best_params)\n",
    "    except FileNotFoundError:\n",
    "        best_params = default_params\n",
    "        print(\"\\nUsing default hyperparameters:\")\n",
    "        print(best_params)"
   ]
  },
  {
   "metadata": {},
   "cell_type": "code",
   "outputs": [],
   "execution_count": null,
   "source": [
    "train_loader = create_dataloader(train_inputs, train_masks, train_labels, best_params['batch_size'], shuffle=True)\n",
    "val_loader = create_dataloader(val_inputs, val_masks, val_labels, best_params['batch_size'])\n",
    "test_loader = create_dataloader(test_inputs, test_masks, test_labels, best_params['batch_size'])\n",
    "\n",
    "from transformers import RobertaConfig, RobertaForSequenceClassification\n",
    "\n",
    "config = RobertaConfig.from_pretrained(\n",
    "    'roberta-base',\n",
    "    num_labels=3,\n",
    "    hidden_dropout_prob=best_params['hidden_dropout'],\n",
    "    attention_probs_dropout_prob=best_params['attention_dropout']\n",
    ")\n",
    "model = RobertaForSequenceClassification.from_pretrained('roberta-base', config=config).to(device)\n",
    "\n",
    "optimizer = optim.AdamW(model.parameters(), lr=best_params['lr'], weight_decay=best_params['weight_decay'])\n",
    "total_steps = (len(train_loader) // best_params['grad_accum_steps']) * best_params['num_epochs']\n",
    "scheduler = get_scheduler('linear', optimizer, num_warmup_steps=int(total_steps * 0.1), num_training_steps=total_steps)"
   ],
   "id": "d47f97b1f7fb9c9e"
  },
  {
   "cell_type": "code",
   "execution_count": 54,
   "id": "b82ed02be1ad70a8",
   "metadata": {
    "ExecuteTime": {
     "end_time": "2025-03-03T22:06:57.739393Z",
     "start_time": "2025-03-03T21:58:50.528881Z"
    }
   },
   "outputs": [
    {
     "data": {
      "application/vnd.jupyter.widget-view+json": {
       "model_id": "2d19aaffc76947c487976035653159ac",
       "version_major": 2,
       "version_minor": 0
      },
      "text/plain": [
       "Training:   0%|          | 0/3282 [00:00<?, ?it/s]"
      ]
     },
     "metadata": {},
     "output_type": "display_data"
    },
    {
     "name": "stdout",
     "output_type": "stream",
     "text": [
      "Epoch 1: Train Loss = 0.7063, Val Acc = 0.7844, Val F1 = 0.7837\n"
     ]
    },
    {
     "data": {
      "application/vnd.jupyter.widget-view+json": {
       "model_id": "4968bd72e28c4811a0764cc6c4ef9091",
       "version_major": 2,
       "version_minor": 0
      },
      "text/plain": [
       "Training:   0%|          | 0/3282 [00:00<?, ?it/s]"
      ]
     },
     "metadata": {},
     "output_type": "display_data"
    },
    {
     "name": "stdout",
     "output_type": "stream",
     "text": [
      "Epoch 2: Train Loss = 0.5021, Val Acc = 0.8260, Val F1 = 0.8260\n"
     ]
    },
    {
     "data": {
      "application/vnd.jupyter.widget-view+json": {
       "model_id": "34d5bf78507548da91cacc42828b1fd5",
       "version_major": 2,
       "version_minor": 0
      },
      "text/plain": [
       "Training:   0%|          | 0/3282 [00:00<?, ?it/s]"
      ]
     },
     "metadata": {},
     "output_type": "display_data"
    },
    {
     "name": "stdout",
     "output_type": "stream",
     "text": [
      "Epoch 3: Train Loss = 0.4294, Val Acc = 0.8427, Val F1 = 0.8421\n"
     ]
    },
    {
     "data": {
      "application/vnd.jupyter.widget-view+json": {
       "model_id": "4efe95f1adc4456e9ab2026fa935d5ba",
       "version_major": 2,
       "version_minor": 0
      },
      "text/plain": [
       "Training:   0%|          | 0/3282 [00:00<?, ?it/s]"
      ]
     },
     "metadata": {},
     "output_type": "display_data"
    },
    {
     "name": "stdout",
     "output_type": "stream",
     "text": [
      "Epoch 4: Train Loss = 0.3758, Val Acc = 0.8375, Val F1 = 0.8374\n"
     ]
    },
    {
     "data": {
      "application/vnd.jupyter.widget-view+json": {
       "model_id": "e4351b55640b422eae618185d63fe240",
       "version_major": 2,
       "version_minor": 0
      },
      "text/plain": [
       "Training:   0%|          | 0/3282 [00:00<?, ?it/s]"
      ]
     },
     "metadata": {},
     "output_type": "display_data"
    },
    {
     "name": "stdout",
     "output_type": "stream",
     "text": [
      "Epoch 5: Train Loss = 0.3360, Val Acc = 0.8547, Val F1 = 0.8547\n"
     ]
    },
    {
     "data": {
      "application/vnd.jupyter.widget-view+json": {
       "model_id": "7e849780292a42688049998c0af13185",
       "version_major": 2,
       "version_minor": 0
      },
      "text/plain": [
       "Training:   0%|          | 0/3282 [00:00<?, ?it/s]"
      ]
     },
     "metadata": {},
     "output_type": "display_data"
    },
    {
     "name": "stdout",
     "output_type": "stream",
     "text": [
      "Epoch 6: Train Loss = 0.3048, Val Acc = 0.8614, Val F1 = 0.8615\n"
     ]
    },
    {
     "data": {
      "application/vnd.jupyter.widget-view+json": {
       "model_id": "bd4feee0bcec4b50a861d5cfb9678397",
       "version_major": 2,
       "version_minor": 0
      },
      "text/plain": [
       "Training:   0%|          | 0/3282 [00:00<?, ?it/s]"
      ]
     },
     "metadata": {},
     "output_type": "display_data"
    },
    {
     "name": "stdout",
     "output_type": "stream",
     "text": [
      "Epoch 7: Train Loss = 0.2795, Val Acc = 0.8627, Val F1 = 0.8627\n"
     ]
    }
   ],
   "source": [
    "train_losses = []\n",
    "val_accuracies = []\n",
    "val_f1_scores = []\n",
    "best_val_f1 = 0\n",
    "patience_counter = 0\n",
    "\n",
    "for epoch in range(best_params['num_epochs']):\n",
    "    train_loss = train(model, train_loader, optimizer, scheduler, best_params, device)\n",
    "    train_losses.append(train_loss)\n",
    "\n",
    "    acc, f1, _, _ = evaluate(model, val_loader, device)\n",
    "    val_accuracies.append(acc)\n",
    "    val_f1_scores.append(f1)\n",
    "\n",
    "    print(f\"Epoch {epoch+1}: Train Loss = {train_loss:.4f}, Val Acc = {acc:.4f}, Val F1 = {f1:.4f}\")\n",
    "\n",
    "    if f1 > best_val_f1:\n",
    "        best_val_f1 = f1\n",
    "        patience_counter = 0\n",
    "        torch.save(model.state_dict(), 'best_roberta_model.pth')\n",
    "    else:\n",
    "        patience_counter += 1\n",
    "        if patience_counter >= 3:\n",
    "            print(\"Early stopping triggered\")\n",
    "            break"
   ]
  },
  {
   "cell_type": "markdown",
   "id": "c956dfa51bb3daed",
   "metadata": {},
   "source": "# 10. Plot Training Graphs"
  },
  {
   "cell_type": "code",
   "execution_count": 55,
   "id": "49605cc0d7900cb0",
   "metadata": {
    "ExecuteTime": {
     "end_time": "2025-03-03T22:07:14.205455Z",
     "start_time": "2025-03-03T22:07:13.949153Z"
    }
   },
   "outputs": [
    {
     "data": {
      "image/png": "[encoded data removed]",
      "text/plain": [
       "<Figure size 1200x500 with 2 Axes>"
      ]
     },
     "metadata": {},
     "output_type": "display_data"
    }
   ],
   "source": [
    "plt.figure(figsize=(12, 5))\n",
    "plt.subplot(1, 2, 1)\n",
    "plt.plot(train_losses, label='Training Loss', color='blue', marker='o')\n",
    "plt.title('Training Loss Over Epochs')\n",
    "plt.xlabel('Epoch')\n",
    "plt.ylabel('Loss')\n",
    "plt.legend()\n",
    "\n",
    "plt.subplot(1, 2, 2)\n",
    "plt.plot(val_f1_scores, label='Validation F1', color='green', marker='o')\n",
    "plt.title('Validation F1 Over Epochs')\n",
    "plt.xlabel('Epoch')\n",
    "plt.ylabel('F1 Score')\n",
    "plt.legend()\n",
    "\n",
    "plt.tight_layout()\n",
    "plt.show()"
   ]
  },
  {
   "cell_type": "markdown",
   "id": "780b36ae29abb652",
   "metadata": {},
   "source": "# 11. Final Evaluation"
  },
  {
   "cell_type": "code",
   "execution_count": 56,
   "id": "3997dcc6d67eb39",
   "metadata": {
    "ExecuteTime": {
     "end_time": "2025-03-03T22:07:25.767910Z",
     "start_time": "2025-03-03T22:07:18.940881Z"
    }
   },
   "outputs": [
    {
     "name": "stdout",
     "output_type": "stream",
     "text": [
      "Test Accuracy: 0.8600\n",
      "Test Precision: 0.8602\n",
      "Test Recall: 0.8600\n",
      "Test F1 Score: 0.8598\n"
     ]
    },
    {
     "data": {
      "image/png": "[encoded data removed]",
      "text/plain": [
       "<Figure size 800x600 with 2 Axes>"
      ]
     },
     "metadata": {},
     "output_type": "display_data"
    }
   ],
   "source": [
    "model.load_state_dict(torch.load('best_roberta_model.pth'))\n",
    "cm, test_acc, test_f1, test_precision, test_recall = evaluate_with_metrics(model, test_loader, device)\n",
    "\n",
    "plt.figure(figsize=(8, 6))\n",
    "sns.heatmap(cm, annot=True, fmt='d', cmap='Blues',\n",
    "            xticklabels=['Negative', 'Neutral', 'Positive'],\n",
    "            yticklabels=['Negative', 'Neutral', 'Positive'])\n",
    "plt.title(f'Confusion Matrix (Test Accuracy: {test_acc:.2%})')\n",
    "plt.xlabel('Predicted Label')\n",
    "plt.ylabel('True Label')\n",
    "plt.show()"
   ]
  }
 ],
 "metadata": {
  "kernelspec": {
   "display_name": "Python 3 (ipykernel)",
   "language": "python",
   "name": "python3"
  },
  "language_info": {
   "codemirror_mode": {
    "name": "ipython",
    "version": 3
   },
   "file_extension": ".py",
   "mimetype": "text/x-python",
   "name": "python",
   "nbconvert_exporter": "python",
   "pygments_lexer": "ipython3",
   "version": "3.8.20"
  }
 },
 "nbformat": 4,
 "nbformat_minor": 5
}
