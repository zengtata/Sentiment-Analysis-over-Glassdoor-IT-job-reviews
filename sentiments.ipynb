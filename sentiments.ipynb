{
 "cells": [
  {
   "cell_type": "code",
   "id": "initial_id",
   "metadata": {
    "collapsed": true,
    "ExecuteTime": {
     "end_time": "2025-03-06T11:38:19.578901Z",
     "start_time": "2025-03-06T11:38:03.578429Z"
    }
   },
   "source": [
    "import re\n",
    "import string\n",
    "import torch\n",
    "import pandas as pd\n",
    "from transformers import (\n",
    "    DistilBertTokenizer,\n",
    "    DistilBertForSequenceClassification,\n",
    ")\n",
    "import os\n",
    "import json"
   ],
   "outputs": [
    {
     "name": "stderr",
     "output_type": "stream",
     "text": [
      "C:\\Users\\zengtata\\Apps\\anaconda\\envs\\MachineLearning\\Lib\\site-packages\\tqdm\\auto.py:21: TqdmWarning: IProgress not found. Please update jupyter and ipywidgets. See https://ipywidgets.readthedocs.io/en/stable/user_install.html\n",
      "  from .autonotebook import tqdm as notebook_tqdm\n"
     ]
    }
   ],
   "execution_count": 1
  },
  {
   "metadata": {
    "ExecuteTime": {
     "end_time": "2025-03-06T11:38:21.526458Z",
     "start_time": "2025-03-06T11:38:20.972442Z"
    }
   },
   "cell_type": "code",
   "source": [
    "device = torch.device('cuda' if torch.cuda.is_available() else 'cpu')\n",
    "\n",
    "model_path = \"distil_bert_model_data\"\n",
    "model = DistilBertForSequenceClassification.from_pretrained(model_path)\n",
    "tokenizer = DistilBertTokenizer.from_pretrained(model_path)\n",
    "model.to(device)\n",
    "model.eval()"
   ],
   "id": "39a14f586b38d406",
   "outputs": [
    {
     "data": {
      "text/plain": [
       "DistilBertForSequenceClassification(\n",
       "  (distilbert): DistilBertModel(\n",
       "    (embeddings): Embeddings(\n",
       "      (word_embeddings): Embedding(30522, 768, padding_idx=0)\n",
       "      (position_embeddings): Embedding(512, 768)\n",
       "      (LayerNorm): LayerNorm((768,), eps=1e-12, elementwise_affine=True)\n",
       "      (dropout): Dropout(p=0.1, inplace=False)\n",
       "    )\n",
       "    (transformer): Transformer(\n",
       "      (layer): ModuleList(\n",
       "        (0-5): 6 x TransformerBlock(\n",
       "          (attention): DistilBertSdpaAttention(\n",
       "            (dropout): Dropout(p=0.1, inplace=False)\n",
       "            (q_lin): Linear(in_features=768, out_features=768, bias=True)\n",
       "            (k_lin): Linear(in_features=768, out_features=768, bias=True)\n",
       "            (v_lin): Linear(in_features=768, out_features=768, bias=True)\n",
       "            (out_lin): Linear(in_features=768, out_features=768, bias=True)\n",
       "          )\n",
       "          (sa_layer_norm): LayerNorm((768,), eps=1e-12, elementwise_affine=True)\n",
       "          (ffn): FFN(\n",
       "            (dropout): Dropout(p=0.1, inplace=False)\n",
       "            (lin1): Linear(in_features=768, out_features=3072, bias=True)\n",
       "            (lin2): Linear(in_features=3072, out_features=768, bias=True)\n",
       "            (activation): GELUActivation()\n",
       "          )\n",
       "          (output_layer_norm): LayerNorm((768,), eps=1e-12, elementwise_affine=True)\n",
       "        )\n",
       "      )\n",
       "    )\n",
       "  )\n",
       "  (pre_classifier): Linear(in_features=768, out_features=768, bias=True)\n",
       "  (classifier): Linear(in_features=768, out_features=3, bias=True)\n",
       "  (dropout): Dropout(p=0.2, inplace=False)\n",
       ")"
      ]
     },
     "execution_count": 2,
     "metadata": {},
     "output_type": "execute_result"
    }
   ],
   "execution_count": 2
  },
  {
   "metadata": {},
   "cell_type": "markdown",
   "source": "# 1. Data Loading and Preprocessing",
   "id": "23a6559f13db809f"
  },
  {
   "metadata": {
    "ExecuteTime": {
     "end_time": "2025-03-06T11:38:23.076112Z",
     "start_time": "2025-03-06T11:38:23.066646Z"
    }
   },
   "cell_type": "code",
   "source": [
    "def load_and_preprocess_data(file_path):\n",
    "    df = pd.read_csv(file_path)\n",
    "    columns_to_keep = ['review_text','job_category', 'date']\n",
    "    df = df[columns_to_keep].dropna(subset=['review_text', 'job_category', 'date'])\n",
    "\n",
    "    def clean_text(text):\n",
    "        text = str(text).lower()\n",
    "        text = re.sub(r'http\\S+|www\\S+', '', text)\n",
    "        text = re.sub(r'[{}]'.format(re.escape(string.punctuation)), '', text)\n",
    "        text = re.sub(r'\\s+', ' ', text).strip()\n",
    "        return text\n",
    "\n",
    "    df['cleaned_review'] = df['review_text'].apply(clean_text)\n",
    "    return df"
   ],
   "id": "feaab795834585b4",
   "outputs": [],
   "execution_count": 3
  },
  {
   "metadata": {
    "ExecuteTime": {
     "end_time": "2025-03-06T11:38:23.856707Z",
     "start_time": "2025-03-06T11:38:23.824746Z"
    }
   },
   "cell_type": "code",
   "source": [
    "file_path = 'glassdoor_datasets/ai_engineer_jobs.csv'\n",
    "df = load_and_preprocess_data(file_path)"
   ],
   "id": "49168a4ce47c548d",
   "outputs": [],
   "execution_count": 4
  },
  {
   "metadata": {
    "ExecuteTime": {
     "end_time": "2025-03-06T11:38:25.767427Z",
     "start_time": "2025-03-06T11:38:25.757525Z"
    }
   },
   "cell_type": "code",
   "source": "df.head()",
   "id": "70af5185a5675397",
   "outputs": [
    {
     "data": {
      "text/plain": [
       "                                         review_text job_category  date  \\\n",
       "0  Cool tech, difficult industry. Interesting tec...  ai engineer  2019   \n",
       "1  Cool tech, difficult industry. Interesting tec...  ai engineer  2019   \n",
       "2  Right place for software developers Good place...  ai engineer  2021   \n",
       "3  Excellent Good culture Nice people High salary...  ai engineer  2023   \n",
       "4  Good Good management system for beginners. No ...  ai engineer  2021   \n",
       "\n",
       "                                      cleaned_review  \n",
       "0  cool tech difficult industry interesting techn...  \n",
       "1  cool tech difficult industry interesting techn...  \n",
       "2  right place for software developers good place...  \n",
       "3  excellent good culture nice people high salary...  \n",
       "4  good good management system for beginners no d...  "
      ],
      "text/html": [
       "<div>\n",
       "<style scoped>\n",
       "    .dataframe tbody tr th:only-of-type {\n",
       "        vertical-align: middle;\n",
       "    }\n",
       "\n",
       "    .dataframe tbody tr th {\n",
       "        vertical-align: top;\n",
       "    }\n",
       "\n",
       "    .dataframe thead th {\n",
       "        text-align: right;\n",
       "    }\n",
       "</style>\n",
       "<table border=\"1\" class=\"dataframe\">\n",
       "  <thead>\n",
       "    <tr style=\"text-align: right;\">\n",
       "      <th></th>\n",
       "      <th>review_text</th>\n",
       "      <th>job_category</th>\n",
       "      <th>date</th>\n",
       "      <th>cleaned_review</th>\n",
       "    </tr>\n",
       "  </thead>\n",
       "  <tbody>\n",
       "    <tr>\n",
       "      <th>0</th>\n",
       "      <td>Cool tech, difficult industry. Interesting tec...</td>\n",
       "      <td>ai engineer</td>\n",
       "      <td>2019</td>\n",
       "      <td>cool tech difficult industry interesting techn...</td>\n",
       "    </tr>\n",
       "    <tr>\n",
       "      <th>1</th>\n",
       "      <td>Cool tech, difficult industry. Interesting tec...</td>\n",
       "      <td>ai engineer</td>\n",
       "      <td>2019</td>\n",
       "      <td>cool tech difficult industry interesting techn...</td>\n",
       "    </tr>\n",
       "    <tr>\n",
       "      <th>2</th>\n",
       "      <td>Right place for software developers Good place...</td>\n",
       "      <td>ai engineer</td>\n",
       "      <td>2021</td>\n",
       "      <td>right place for software developers good place...</td>\n",
       "    </tr>\n",
       "    <tr>\n",
       "      <th>3</th>\n",
       "      <td>Excellent Good culture Nice people High salary...</td>\n",
       "      <td>ai engineer</td>\n",
       "      <td>2023</td>\n",
       "      <td>excellent good culture nice people high salary...</td>\n",
       "    </tr>\n",
       "    <tr>\n",
       "      <th>4</th>\n",
       "      <td>Good Good management system for beginners. No ...</td>\n",
       "      <td>ai engineer</td>\n",
       "      <td>2021</td>\n",
       "      <td>good good management system for beginners no d...</td>\n",
       "    </tr>\n",
       "  </tbody>\n",
       "</table>\n",
       "</div>"
      ]
     },
     "execution_count": 5,
     "metadata": {},
     "output_type": "execute_result"
    }
   ],
   "execution_count": 5
  },
  {
   "metadata": {},
   "cell_type": "markdown",
   "source": "# 2. Execute Sentiment Analysis",
   "id": "e7db259a2a0881a1"
  },
  {
   "metadata": {
    "ExecuteTime": {
     "end_time": "2025-03-06T11:39:16.628719Z",
     "start_time": "2025-03-06T11:39:15.413619Z"
    }
   },
   "cell_type": "code",
   "source": [
    "texts = df['cleaned_review'].tolist()\n",
    "\n",
    "batch_size = 64\n",
    "all_preds = []\n",
    "\n",
    "from tqdm.auto import tqdm\n",
    "\n",
    "for i in tqdm(range(0, len(texts), batch_size), desc=\"Batch Inference\"):\n",
    "    batch_texts = texts[i:i+batch_size]\n",
    "    inputs = tokenizer(batch_texts, return_tensors=\"pt\", truncation=True, padding=True, max_length=256)\n",
    "    inputs = {k: v.to(device) for k, v in inputs.items()}\n",
    "\n",
    "    with torch.no_grad():\n",
    "        outputs = model(**inputs)\n",
    "    batch_preds = outputs.logits.argmax(dim=-1).cpu().numpy()\n",
    "    all_preds.extend(batch_preds)\n",
    "\n",
    "sentiment_map = {0: \"Negative\", 1: \"Neutral\", 2: \"Positive\"}\n",
    "df['predicted_sentiment'] = [sentiment_map[p] for p in all_preds]"
   ],
   "id": "941f6d31412c82e",
   "outputs": [
    {
     "name": "stderr",
     "output_type": "stream",
     "text": [
      "Batch Inference: 100%|██████████| 4/4 [00:01<00:00,  3.32it/s]\n"
     ]
    }
   ],
   "execution_count": 9
  },
  {
   "metadata": {},
   "cell_type": "markdown",
   "source": "# 3. Results By Year",
   "id": "bef20956a4f7dabc"
  },
  {
   "metadata": {
    "ExecuteTime": {
     "end_time": "2025-03-06T11:39:25.147288Z",
     "start_time": "2025-03-06T11:39:25.132043Z"
    }
   },
   "cell_type": "code",
   "source": [
    "aggregation = {}\n",
    "\n",
    "grouped = df.groupby(['date', 'job_category'])\n",
    "for (year, job_cat), group in grouped:\n",
    "    total_reviews = len(group)\n",
    "    sentiment_counts = group['predicted_sentiment'].value_counts().to_dict()\n",
    "    majority_sentiment = max(sentiment_counts, key=sentiment_counts.get)\n",
    "\n",
    "    if str(year) not in aggregation:\n",
    "        aggregation[str(year)] = []\n",
    "    aggregation[str(year)].append({\n",
    "        \"job_category\": job_cat,\n",
    "        \"majority_sentiment\": majority_sentiment,\n",
    "        \"num_reviews\": total_reviews,\n",
    "        \"sentiment_counts\": sentiment_counts\n",
    "    })"
   ],
   "id": "1685bea84d4a83e",
   "outputs": [],
   "execution_count": 11
  },
  {
   "metadata": {},
   "cell_type": "markdown",
   "source": "# 4. Save data to json",
   "id": "fc6e8b492101bdf3"
  },
  {
   "metadata": {
    "ExecuteTime": {
     "end_time": "2025-03-06T11:39:27.539651Z",
     "start_time": "2025-03-06T11:39:27.529145Z"
    }
   },
   "cell_type": "code",
   "source": [
    "base_name = os.path.splitext(file_path)[0]\n",
    "output_file = base_name + \".json\"\n",
    "with open(output_file, \"w\") as f:\n",
    "    json.dump(aggregation, f, indent=4)\n",
    "print(f\"Aggregated data saved to {output_file}\")\n",
    "\n",
    "print(json.dumps(aggregation, indent=4))"
   ],
   "id": "5f12c2869aaf1453",
   "outputs": [
    {
     "name": "stdout",
     "output_type": "stream",
     "text": [
      "Aggregated data saved to glassdoor_datasets/ai_engineer_jobs.json\n",
      "{\n",
      "    \"2008\": [\n",
      "        {\n",
      "            \"job_category\": \"ai engineer\",\n",
      "            \"majority_sentiment\": \"Positive\",\n",
      "            \"num_reviews\": 2,\n",
      "            \"sentiment_counts\": {\n",
      "                \"Positive\": 1,\n",
      "                \"Neutral\": 1\n",
      "            }\n",
      "        }\n",
      "    ],\n",
      "    \"2016\": [\n",
      "        {\n",
      "            \"job_category\": \"ai engineer\",\n",
      "            \"majority_sentiment\": \"Positive\",\n",
      "            \"num_reviews\": 2,\n",
      "            \"sentiment_counts\": {\n",
      "                \"Positive\": 2\n",
      "            }\n",
      "        }\n",
      "    ],\n",
      "    \"2017\": [\n",
      "        {\n",
      "            \"job_category\": \"ai engineer\",\n",
      "            \"majority_sentiment\": \"Positive\",\n",
      "            \"num_reviews\": 2,\n",
      "            \"sentiment_counts\": {\n",
      "                \"Positive\": 2\n",
      "            }\n",
      "        }\n",
      "    ],\n",
      "    \"2018\": [\n",
      "        {\n",
      "            \"job_category\": \"ai engineer\",\n",
      "            \"majority_sentiment\": \"Positive\",\n",
      "            \"num_reviews\": 7,\n",
      "            \"sentiment_counts\": {\n",
      "                \"Positive\": 5,\n",
      "                \"Negative\": 2\n",
      "            }\n",
      "        }\n",
      "    ],\n",
      "    \"2019\": [\n",
      "        {\n",
      "            \"job_category\": \"ai engineer\",\n",
      "            \"majority_sentiment\": \"Positive\",\n",
      "            \"num_reviews\": 12,\n",
      "            \"sentiment_counts\": {\n",
      "                \"Positive\": 10,\n",
      "                \"Neutral\": 2\n",
      "            }\n",
      "        }\n",
      "    ],\n",
      "    \"2020\": [\n",
      "        {\n",
      "            \"job_category\": \"ai engineer\",\n",
      "            \"majority_sentiment\": \"Positive\",\n",
      "            \"num_reviews\": 35,\n",
      "            \"sentiment_counts\": {\n",
      "                \"Positive\": 31,\n",
      "                \"Negative\": 3,\n",
      "                \"Neutral\": 1\n",
      "            }\n",
      "        }\n",
      "    ],\n",
      "    \"2021\": [\n",
      "        {\n",
      "            \"job_category\": \"ai engineer\",\n",
      "            \"majority_sentiment\": \"Positive\",\n",
      "            \"num_reviews\": 85,\n",
      "            \"sentiment_counts\": {\n",
      "                \"Positive\": 75,\n",
      "                \"Neutral\": 6,\n",
      "                \"Negative\": 4\n",
      "            }\n",
      "        }\n",
      "    ],\n",
      "    \"2022\": [\n",
      "        {\n",
      "            \"job_category\": \"ai engineer\",\n",
      "            \"majority_sentiment\": \"Positive\",\n",
      "            \"num_reviews\": 83,\n",
      "            \"sentiment_counts\": {\n",
      "                \"Positive\": 72,\n",
      "                \"Negative\": 6,\n",
      "                \"Neutral\": 5\n",
      "            }\n",
      "        }\n",
      "    ],\n",
      "    \"2023\": [\n",
      "        {\n",
      "            \"job_category\": \"ai engineer\",\n",
      "            \"majority_sentiment\": \"Positive\",\n",
      "            \"num_reviews\": 28,\n",
      "            \"sentiment_counts\": {\n",
      "                \"Positive\": 18,\n",
      "                \"Negative\": 7,\n",
      "                \"Neutral\": 3\n",
      "            }\n",
      "        }\n",
      "    ]\n",
      "}\n"
     ]
    }
   ],
   "execution_count": 12
  },
  {
   "metadata": {},
   "cell_type": "code",
   "outputs": [],
   "execution_count": null,
   "source": "",
   "id": "25dbd1a928629e73"
  }
 ],
 "metadata": {
  "kernelspec": {
   "display_name": "Python 3",
   "language": "python",
   "name": "python3"
  },
  "language_info": {
   "codemirror_mode": {
    "name": "ipython",
    "version": 2
   },
   "file_extension": ".py",
   "mimetype": "text/x-python",
   "name": "python",
   "nbconvert_exporter": "python",
   "pygments_lexer": "ipython2",
   "version": "2.7.6"
  }
 },
 "nbformat": 4,
 "nbformat_minor": 5
}
