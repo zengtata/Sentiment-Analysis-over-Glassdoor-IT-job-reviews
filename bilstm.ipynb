{
 "cells": [
  {
   "metadata": {},
   "cell_type": "markdown",
   "source": "# 1. Imports",
   "id": "2f831410ceab3de1"
  },
  {
   "cell_type": "code",
   "execution_count": 2,
   "id": "aae806b8-f91a-4dde-a817-7a7b842ec3d6",
   "metadata": {
    "tags": []
   },
   "outputs": [
    {
     "name": "stderr",
     "output_type": "stream",
     "text": [
      "2025-03-22 16:48:13.533243: I tensorflow/core/util/port.cc:110] oneDNN custom operations are on. You may see slightly different numerical results due to floating-point round-off errors from different computation orders. To turn them off, set the environment variable `TF_ENABLE_ONEDNN_OPTS=0`.\n",
      "2025-03-22 16:48:13.585415: I tensorflow/core/platform/cpu_feature_guard.cc:182] This TensorFlow binary is optimized to use available CPU instructions in performance-critical operations.\n",
      "To enable the following instructions: AVX2 AVX512F AVX512_VNNI FMA, in other operations, rebuild TensorFlow with the appropriate compiler flags.\n",
      "2025-03-22 16:48:14.430705: W tensorflow/compiler/tf2tensorrt/utils/py_utils.cc:38] TF-TRT Warning: Could not find TensorRT\n"
     ]
    }
   ],
   "source": [
    "import os\n",
    "import re\n",
    "import json\n",
    "import string\n",
    "import pandas as pd\n",
    "import numpy as np\n",
    "import matplotlib.pyplot as plt\n",
    "import seaborn as sns\n",
    "\n",
    "import torch\n",
    "import torch.nn as nn\n",
    "import torch.optim as optim\n",
    "from torch.utils.data import TensorDataset, DataLoader\n",
    "from torch.optim.lr_scheduler import CosineAnnealingLR\n",
    "\n",
    "from sklearn.model_selection import train_test_split\n",
    "from sklearn.preprocessing import LabelEncoder\n",
    "from sklearn.metrics import confusion_matrix, accuracy_score, f1_score, precision_score, recall_score\n",
    "\n",
    "from tensorflow.keras.preprocessing.text import Tokenizer\n",
    "from tensorflow.keras.preprocessing.sequence import pad_sequences\n",
    "\n",
    "import nltk\n",
    "from nltk.corpus import stopwords, wordnet\n",
    "from nltk.stem import WordNetLemmatizer\n",
    "from nltk import pos_tag\n",
    "\n",
    "import optuna\n",
    "from torch.utils.tensorboard import SummaryWriter"
   ]
  },
  {
   "cell_type": "code",
   "execution_count": 3,
   "id": "ea64c6b6-713a-4271-821b-93347faf1c06",
   "metadata": {
    "tags": []
   },
   "outputs": [
    {
     "name": "stderr",
     "output_type": "stream",
     "text": [
      "[nltk_data] Downloading package punkt_tab to\n",
      "[nltk_data]     /home/ec2-user/nltk_data...\n",
      "[nltk_data]   Package punkt_tab is already up-to-date!\n",
      "[nltk_data] Downloading package stopwords to\n",
      "[nltk_data]     /home/ec2-user/nltk_data...\n",
      "[nltk_data]   Package stopwords is already up-to-date!\n",
      "[nltk_data] Downloading package wordnet to /home/ec2-user/nltk_data...\n",
      "[nltk_data]   Package wordnet is already up-to-date!\n",
      "[nltk_data] Downloading package averaged_perceptron_tagger_eng to\n",
      "[nltk_data]     /home/ec2-user/nltk_data...\n",
      "[nltk_data]   Package averaged_perceptron_tagger_eng is already up-to-\n",
      "[nltk_data]       date!\n"
     ]
    },
    {
     "data": {
      "text/plain": [
       "True"
      ]
     },
     "execution_count": 3,
     "metadata": {},
     "output_type": "execute_result"
    }
   ],
   "source": [
    "nltk.download('punkt_tab')\n",
    "nltk.download('stopwords')\n",
    "nltk.download('wordnet')\n",
    "nltk.download('averaged_perceptron_tagger_eng')"
   ]
  },
  {
   "cell_type": "code",
   "execution_count": 4,
   "id": "6aa94968-64b2-49d7-a73e-5be821b807dd",
   "metadata": {},
   "outputs": [
    {
     "name": "stdout",
     "output_type": "stream",
     "text": [
      "Using device: cuda\n"
     ]
    }
   ],
   "source": [
    "SEED = 42\n",
    "torch.manual_seed(SEED)\n",
    "np.random.seed(SEED)\n",
    "device = torch.device('cuda' if torch.cuda.is_available() else 'cpu')\n",
    "print(f'Using device: {device}')"
   ]
  },
  {
   "metadata": {},
   "cell_type": "markdown",
   "source": "# 2. Data Preprocessing",
   "id": "370c8f6a426517f1"
  },
  {
   "cell_type": "code",
   "execution_count": 5,
   "id": "beebdd9e-f104-48c3-b6b5-e086f25f2edb",
   "metadata": {},
   "outputs": [],
   "source": [
    "df = pd.read_csv('best_all_it_jobs.csv')\n",
    "columns_to_keep = ['review_text', 'sentiment']\n",
    "df = df[columns_to_keep].dropna(subset=['review_text'])"
   ]
  },
  {
   "cell_type": "code",
   "execution_count": 6,
   "id": "d5e6a1b8-45a6-407f-a415-8991ccaf450f",
   "metadata": {},
   "outputs": [
    {
     "data": {
      "text/html": [
       "<div>\n",
       "<style scoped>\n",
       "    .dataframe tbody tr th:only-of-type {\n",
       "        vertical-align: middle;\n",
       "    }\n",
       "\n",
       "    .dataframe tbody tr th {\n",
       "        vertical-align: top;\n",
       "    }\n",
       "\n",
       "    .dataframe thead th {\n",
       "        text-align: right;\n",
       "    }\n",
       "</style>\n",
       "<table border=\"1\" class=\"dataframe\">\n",
       "  <thead>\n",
       "    <tr style=\"text-align: right;\">\n",
       "      <th></th>\n",
       "      <th>review_text</th>\n",
       "      <th>sentiment</th>\n",
       "    </tr>\n",
       "  </thead>\n",
       "  <tbody>\n",
       "    <tr>\n",
       "      <th>0</th>\n",
       "      <td>Be ready to work hard, but really learn and gr...</td>\n",
       "      <td>Positive</td>\n",
       "    </tr>\n",
       "    <tr>\n",
       "      <th>1</th>\n",
       "      <td>Freelancing is for me i want to earn money fin...</td>\n",
       "      <td>Neutral</td>\n",
       "    </tr>\n",
       "    <tr>\n",
       "      <th>2</th>\n",
       "      <td>Not all change is for the better. Flexible for...</td>\n",
       "      <td>Positive</td>\n",
       "    </tr>\n",
       "    <tr>\n",
       "      <th>3</th>\n",
       "      <td>Good people Great people and schedule.  Get to...</td>\n",
       "      <td>Positive</td>\n",
       "    </tr>\n",
       "    <tr>\n",
       "      <th>4</th>\n",
       "      <td>DON'T WORK HERE Low pay, poor treatment, hosti...</td>\n",
       "      <td>Negative</td>\n",
       "    </tr>\n",
       "  </tbody>\n",
       "</table>\n",
       "</div>"
      ],
      "text/plain": [
       "                                         review_text sentiment\n",
       "0  Be ready to work hard, but really learn and gr...  Positive\n",
       "1  Freelancing is for me i want to earn money fin...   Neutral\n",
       "2  Not all change is for the better. Flexible for...  Positive\n",
       "3  Good people Great people and schedule.  Get to...  Positive\n",
       "4  DON'T WORK HERE Low pay, poor treatment, hosti...  Negative"
      ]
     },
     "execution_count": 6,
     "metadata": {},
     "output_type": "execute_result"
    }
   ],
   "source": [
    "df.head(5)"
   ]
  },
  {
   "cell_type": "code",
   "execution_count": 7,
   "id": "c4dbfc75-ccb0-440f-ac3c-eaa517f5756a",
   "metadata": {},
   "outputs": [],
   "source": [
    "label_map = {\"Negative\": 0, \"Neutral\": 1, \"Positive\": 2}\n",
    "df['label'] = df['sentiment'].map(label_map)"
   ]
  },
  {
   "cell_type": "code",
   "execution_count": 8,
   "id": "a5c0e194-f182-4bcd-b6d6-dfa0c4c1c6fa",
   "metadata": {},
   "outputs": [],
   "source": [
    "df_sampled = (df.groupby(\"sentiment\")\n",
    "              .sample(n=20000, random_state=SEED, replace=True)\n",
    "              .reset_index(drop=True))"
   ]
  },
  {
   "cell_type": "code",
   "execution_count": 9,
   "id": "eb36b633-2b29-41bf-9796-3f33e8ed0736",
   "metadata": {},
   "outputs": [],
   "source": [
    "stop_words = set(stopwords.words(\"english\"))\n",
    "lemmatizer = WordNetLemmatizer()"
   ]
  },
  {
   "cell_type": "code",
   "execution_count": 10,
   "id": "aa40f985-3b51-437b-b980-521ecacc4057",
   "metadata": {},
   "outputs": [],
   "source": [
    "def get_wordnet_pos(tag):\n",
    "    return {\n",
    "        'J': wordnet.ADJ,\n",
    "        'V': wordnet.VERB,\n",
    "        'N': wordnet.NOUN,\n",
    "        'R': wordnet.ADV\n",
    "    }.get(tag[0], wordnet.NOUN)\n",
    "\n",
    "def preprocess_text(text):\n",
    "    if not isinstance(text, str):\n",
    "        return \"\"\n",
    "    text = re.sub(r'http\\S+|www\\S+|[^a-zA-Z\\s]', '', text.lower())\n",
    "    tokens = [lemmatizer.lemmatize(w, get_wordnet_pos(tag)) \n",
    "              for w, tag in pos_tag(nltk.word_tokenize(text)) \n",
    "              if w not in stop_words]\n",
    "    return ' '.join(tokens)"
   ]
  },
  {
   "cell_type": "code",
   "execution_count": 11,
   "id": "201b8ee2-26ba-49bc-b4ed-8ec956af8fd4",
   "metadata": {},
   "outputs": [],
   "source": [
    "df_sampled['cleaned_review'] = df_sampled['review_text'].apply(preprocess_text)\n",
    "df_sampled = df_sampled[df_sampled['cleaned_review'].str.strip().astype(bool)]"
   ]
  },
  {
   "metadata": {},
   "cell_type": "markdown",
   "source": "# 3. Data Splitting\n",
   "id": "f96ace04ceaaf0db"
  },
  {
   "cell_type": "code",
   "execution_count": 12,
   "id": "ef5816c7-b6a2-45c8-802e-243123dc8658",
   "metadata": {},
   "outputs": [],
   "source": [
    "train_df, temp_df = train_test_split(\n",
    "    df_sampled, test_size=0.3, stratify=df_sampled['sentiment'], random_state=SEED\n",
    ")\n",
    "val_df, test_df = train_test_split(\n",
    "    temp_df, test_size=0.5, stratify=temp_df['sentiment'], random_state=SEED\n",
    ")"
   ]
  },
  {
   "metadata": {},
   "cell_type": "markdown",
   "source": "# 4. Tokenization",
   "id": "433b8ba294812a8b"
  },
  {
   "cell_type": "code",
   "execution_count": 13,
   "id": "bcca67cb-a6f7-433c-83ba-587d23500999",
   "metadata": {},
   "outputs": [],
   "source": [
    "tokenizer = Tokenizer(num_words=10000, oov_token=\"<OOV>\")\n",
    "tokenizer.fit_on_texts(train_df['cleaned_review'])"
   ]
  },
  {
   "cell_type": "code",
   "execution_count": 14,
   "id": "9b636c27-7d91-4b5a-90ac-214ce7f51b68",
   "metadata": {},
   "outputs": [],
   "source": [
    "def prepare_sequences(df, max_length=250):\n",
    "    sequences = tokenizer.texts_to_sequences(df['cleaned_review'])\n",
    "    lengths = [min(len(seq), max_length) for seq in sequences]\n",
    "    padded = pad_sequences(sequences, maxlen=max_length, padding='post', truncating='post')\n",
    "    return padded, lengths"
   ]
  },
  {
   "cell_type": "code",
   "execution_count": 15,
   "id": "3ebd87ce-6bed-47db-b531-bc178d6669c1",
   "metadata": {},
   "outputs": [],
   "source": [
    "X_train, train_lengths = prepare_sequences(train_df)\n",
    "X_val, val_lengths = prepare_sequences(val_df)\n",
    "X_test, test_lengths = prepare_sequences(test_df)"
   ]
  },
  {
   "cell_type": "code",
   "execution_count": 16,
   "id": "b37488ff-ff0c-4f5f-8278-13fdb7d3eaf1",
   "metadata": {},
   "outputs": [],
   "source": [
    "le = LabelEncoder()\n",
    "y_train = le.fit_transform(train_df['sentiment'])\n",
    "y_val = le.transform(val_df['sentiment'])\n",
    "y_test = le.transform(test_df['sentiment'])"
   ]
  },
  {
   "metadata": {},
   "cell_type": "markdown",
   "source": "# 5. Word Embedding",
   "id": "257c452674aa2938"
  },
  {
   "cell_type": "code",
   "execution_count": 17,
   "id": "6e2509aa-4715-4868-8e96-aa6a983bacd9",
   "metadata": {},
   "outputs": [],
   "source": [
    "def load_glove_embeddings(path, tokenizer, embed_dim):\n",
    "    embeddings_index = {}\n",
    "    with open(path, 'r', encoding='utf-8') as f:\n",
    "        for line in f:\n",
    "            values = line.split()\n",
    "            word = values[0]\n",
    "            vector = np.array(values[1:], dtype='float32')\n",
    "            embeddings_index[word] = vector\n",
    "\n",
    "    vocab_size = tokenizer.num_words + 1\n",
    "    embedding_matrix = np.zeros((vocab_size, embed_dim))\n",
    "    \n",
    "    for word, i in tokenizer.word_index.items():\n",
    "        if i >= vocab_size:\n",
    "            continue\n",
    "        if word in embeddings_index:\n",
    "            embedding_matrix[i] = embeddings_index[word]\n",
    "            \n",
    "    return torch.tensor(embedding_matrix, dtype=torch.float32)\n",
    "\n",
    "embedding_matrix = load_glove_embeddings('glove.6B.100d.txt', tokenizer, 100)"
   ]
  },
  {
   "metadata": {},
   "cell_type": "markdown",
   "source": "# 6. DataLoader Function",
   "id": "ff7711667a736153"
  },
  {
   "cell_type": "code",
   "execution_count": 18,
   "id": "21935f7c-b69d-4983-9c8e-89655bbc8972",
   "metadata": {},
   "outputs": [],
   "source": [
    "def create_dataloader(X, lengths, y, batch_size=128, shuffle=False):\n",
    "    dataset = TensorDataset(\n",
    "        torch.tensor(X, dtype=torch.long),\n",
    "        torch.tensor(lengths, dtype=torch.long),\n",
    "        torch.tensor(y, dtype=torch.long)\n",
    "    )\n",
    "    return DataLoader(dataset, batch_size=batch_size, shuffle=shuffle, num_workers=4)"
   ]
  },
  {
   "metadata": {},
   "cell_type": "markdown",
   "source": "# 7. Define Model",
   "id": "3933f2e5d740245e"
  },
  {
   "cell_type": "code",
   "execution_count": 19,
   "id": "3b16e563-2f6e-46a6-8b48-d63634d57503",
   "metadata": {},
   "outputs": [],
   "source": [
    "class SentimentBiLSTM(nn.Module):\n",
    "    def __init__(self, vocab_size, embed_dim, hidden_dim, output_dim,\n",
    "                 num_layers, dropout, pretrained_embeddings=None):\n",
    "        super().__init__()\n",
    "        self.embedding = nn.Embedding.from_pretrained(pretrained_embeddings, freeze=False) \\\n",
    "            if pretrained_embeddings is not None \\\n",
    "            else nn.Embedding(vocab_size, embed_dim)\n",
    "\n",
    "        self.lstm = nn.LSTM(embed_dim, hidden_dim, num_layers,\n",
    "                            dropout=dropout, batch_first=True, bidirectional=True)\n",
    "        self.dropout = nn.Dropout(dropout)\n",
    "        self.fc = nn.Linear(hidden_dim * 2, output_dim)\n",
    "\n",
    "    def forward(self, x, lengths):\n",
    "        embedded = self.embedding(x)\n",
    "        packed = nn.utils.rnn.pack_padded_sequence(\n",
    "            embedded, lengths.cpu(), batch_first=True, enforce_sorted=False\n",
    "        )\n",
    "        _, (hidden, _) = self.lstm(packed)\n",
    "        \n",
    "        num_layers = self.lstm.num_layers\n",
    "        hidden_forward = hidden[:num_layers, :, :]\n",
    "        hidden_backward = hidden[num_layers:, :, :]\n",
    "        \n",
    "        last_hidden_forward = hidden_forward[-1, :, :]\n",
    "        last_hidden_backward = hidden_backward[-1, :, :]\n",
    "\n",
    "        combined = torch.cat((last_hidden_forward, last_hidden_backward), dim=1)\n",
    "        \n",
    "        return self.fc(self.dropout(combined))"
   ]
  },
  {
   "metadata": {},
   "cell_type": "markdown",
   "source": "# 8. Training Function",
   "id": "959a21b23ded1b61"
  },
  {
   "cell_type": "code",
   "execution_count": 20,
   "id": "900a9c5d-cff4-408a-8a6d-4292a025acd1",
   "metadata": {},
   "outputs": [],
   "source": [
    "def train(model, loader, optimizer, criterion, device):\n",
    "    model.train()\n",
    "    total_loss = 0\n",
    "    correct = 0\n",
    "    \n",
    "    for X, lengths, y in loader:\n",
    "        X, y = X.to(device), y.to(device)\n",
    "        optimizer.zero_grad()\n",
    "        outputs = model(X, lengths)\n",
    "        loss = criterion(outputs, y)\n",
    "        loss.backward()\n",
    "        nn.utils.clip_grad_norm_(model.parameters(), 1.0)\n",
    "        optimizer.step()\n",
    "        \n",
    "        total_loss += loss.item()\n",
    "        correct += (outputs.argmax(dim=1) == y).sum().item()\n",
    "    return total_loss/len(loader), correct/len(loader.dataset)"
   ]
  },
  {
   "metadata": {},
   "cell_type": "markdown",
   "source": "# 9. Evaluation Function",
   "id": "38502124d87bd6b6"
  },
  {
   "metadata": {},
   "cell_type": "code",
   "outputs": [],
   "execution_count": null,
   "source": [
    "def evaluate(model, loader, criterion, device):\n",
    "    model.eval()\n",
    "    total_loss = 0\n",
    "    correct = 0\n",
    "\n",
    "    with torch.no_grad():\n",
    "        for X, lengths, y in loader:\n",
    "            X, y = X.to(device), y.to(device)\n",
    "            outputs = model(X, lengths)\n",
    "            loss = criterion(outputs, y)\n",
    "            total_loss += loss.item()\n",
    "            correct += (outputs.argmax(dim=1) == y).sum().item()\n",
    "    return total_loss/len(loader), correct/len(loader.dataset)"
   ],
   "id": "db38da7d71927311"
  },
  {
   "metadata": {},
   "cell_type": "code",
   "outputs": [],
   "execution_count": null,
   "source": [
    "def evaluate_metrics(model, loader, device):\n",
    "    model.eval()\n",
    "    all_preds, all_labels = [], []\n",
    "    with torch.no_grad():\n",
    "        for X, lengths, y in loader:\n",
    "            X, y = X.to(device), y.to(device)\n",
    "            outputs = model(X, lengths)\n",
    "            preds = outputs.argmax(dim=1)\n",
    "            all_preds.extend(preds.cpu().numpy())\n",
    "            all_labels.extend(y.cpu().numpy())\n",
    "    cm = confusion_matrix(all_labels, all_preds)\n",
    "    acc = accuracy_score(all_labels, all_preds)\n",
    "    f1 = f1_score(all_labels, all_preds, average='macro')\n",
    "    precision = precision_score(all_labels, all_preds, average='macro')\n",
    "    recall = recall_score(all_labels, all_preds, average='macro')\n",
    "    return cm, acc, f1, precision, recall"
   ],
   "id": "786d692f22055442"
  },
  {
   "metadata": {},
   "cell_type": "markdown",
   "source": "# 10. Hyperparameter Tuning with Optuna",
   "id": "964ef5fb538acad3"
  },
  {
   "cell_type": "code",
   "execution_count": 21,
   "id": "a4cf3577-efa3-4f1d-b790-63aec51e8a23",
   "metadata": {},
   "outputs": [],
   "source": [
    "def objective(trial):\n",
    "    num_layers = trial.suggest_int('num_layers', 1, 3)\n",
    "    params = {\n",
    "        'hidden_dim': trial.suggest_categorical('hidden_dim', [128, 256, 512]),\n",
    "        'num_layers': num_layers,\n",
    "        'dropout': trial.suggest_float('dropout', 0.1, 0.5) if num_layers > 1 else 0.0,\n",
    "        'lr': trial.suggest_float('lr', 1e-5, 1e-2, log=True),\n",
    "        'batch_size': trial.suggest_categorical('batch_size', [64, 128, 256]),\n",
    "        'weight_decay': trial.suggest_float('weight_decay', 1e-6, 1e-3, log=True),\n",
    "        'num_epochs': trial.suggest_int('num_epochs', 5, 10),\n",
    "        'grad_clip': trial.suggest_float('grad_clip', 0.5, 1.5)\n",
    "    }\n",
    "\n",
    "    train_loader_trial = create_dataloader(X_train, train_lengths, y_train, batch_size=params['batch_size'], shuffle=True)\n",
    "    val_loader_trial = create_dataloader(X_val, val_lengths, y_val, batch_size=params['batch_size'])\n",
    "    \n",
    "    model = SentimentBiLSTM(\n",
    "        vocab_size=10001,\n",
    "        embed_dim=100,\n",
    "        output_dim=len(le.classes_),\n",
    "        pretrained_embeddings=embedding_matrix,\n",
    "        hidden_dim=params['hidden_dim'],\n",
    "        num_layers=params['num_layers'],\n",
    "        dropout=params['dropout']\n",
    "    ).to(device)\n",
    "    \n",
    "    optimizer = optim.AdamW(model.parameters(), lr=params['lr'], weight_decay=params['weight_decay'])\n",
    "    scheduler = CosineAnnealingLR(optimizer, T_max=10)\n",
    "    criterion = nn.CrossEntropyLoss()\n",
    "    writer = SummaryWriter()\n",
    "    \n",
    "    best_val_acc = 0\n",
    "    patience = 2\n",
    "    no_improvement = 0\n",
    "    \n",
    "    for epoch in range(params['num_epochs']):\n",
    "        train_loss, train_acc = train(model, train_loader_trial, optimizer, criterion, device)\n",
    "        val_loss, val_acc = evaluate(model, val_loader_trial, criterion, device)\n",
    "        scheduler.step()\n",
    "        \n",
    "        trial.report(val_acc, epoch)\n",
    "        if trial.should_prune():\n",
    "            writer.close()\n",
    "            raise optuna.TrialPruned()\n",
    "            \n",
    "        writer.add_scalars('Loss', {'train': train_loss, 'val': val_loss}, epoch)\n",
    "        writer.add_scalars('Accuracy', {'train': train_acc, 'val': val_acc}, epoch)\n",
    "        \n",
    "        if val_acc > best_val_acc:\n",
    "            best_val_acc = val_acc\n",
    "            no_improvement = 0\n",
    "        else:\n",
    "            no_improvement += 1\n",
    "            if no_improvement >= patience:\n",
    "                break\n",
    "    writer.close()\n",
    "    return best_val_acc"
   ]
  },
  {
   "cell_type": "code",
   "execution_count": 22,
   "id": "263a128b-9a59-41b3-bdb0-c3d01cc43461",
   "metadata": {},
   "outputs": [
    {
     "name": "stderr",
     "output_type": "stream",
     "text": [
      "[I 2025-03-22 16:50:28,927] A new study created in memory with name: no-name-de4c6dc2-fbd9-474f-8213-1a081e1e629f\n",
      "[I 2025-03-22 16:51:32,240] Trial 0 finished with value: 0.7331111111111112 and parameters: {'num_layers': 1, 'hidden_dim': 512, 'lr': 0.0008683711408101079, 'batch_size': 256, 'weight_decay': 0.0007558105657669164, 'num_epochs': 6, 'grad_clip': 1.4241560643788684}. Best is trial 0 with value: 0.7331111111111112.\n",
      "[I 2025-03-22 16:52:03,633] Trial 1 finished with value: 0.7146666666666667 and parameters: {'num_layers': 1, 'hidden_dim': 128, 'lr': 0.0003257791549607255, 'batch_size': 128, 'weight_decay': 0.0003388775198956191, 'num_epochs': 5, 'grad_clip': 0.7234346791912275}. Best is trial 0 with value: 0.7331111111111112.\n",
      "[I 2025-03-22 16:53:28,928] Trial 2 finished with value: 0.702 and parameters: {'num_layers': 2, 'hidden_dim': 128, 'dropout': 0.344753651375505, 'lr': 0.00015853252859460956, 'batch_size': 128, 'weight_decay': 1.3900843349993574e-06, 'num_epochs': 10, 'grad_clip': 0.836614442770857}. Best is trial 0 with value: 0.7331111111111112.\n",
      "[I 2025-03-22 16:55:13,059] Trial 3 finished with value: 0.7391111111111112 and parameters: {'num_layers': 1, 'hidden_dim': 512, 'lr': 0.0008493204151579138, 'batch_size': 256, 'weight_decay': 3.430794350373475e-05, 'num_epochs': 10, 'grad_clip': 1.2041448778145112}. Best is trial 3 with value: 0.7391111111111112.\n",
      "[I 2025-03-22 17:00:34,994] Trial 4 finished with value: 0.7621111111111111 and parameters: {'num_layers': 2, 'hidden_dim': 512, 'dropout': 0.22704186201659918, 'lr': 0.0013348086673963598, 'batch_size': 128, 'weight_decay': 2.7679837869590387e-05, 'num_epochs': 10, 'grad_clip': 1.365095715484319}. Best is trial 4 with value: 0.7621111111111111.\n",
      "[I 2025-03-22 17:00:56,515] Trial 5 pruned. \n",
      "[I 2025-03-22 17:03:07,786] Trial 6 pruned. \n",
      "[I 2025-03-22 17:03:19,242] Trial 7 pruned. \n",
      "[I 2025-03-22 17:05:25,323] Trial 8 finished with value: 0.7377777777777778 and parameters: {'num_layers': 2, 'hidden_dim': 512, 'dropout': 0.36660330849645306, 'lr': 0.0020678895437102286, 'batch_size': 256, 'weight_decay': 0.0006766279461544908, 'num_epochs': 5, 'grad_clip': 1.2536521949183874}. Best is trial 4 with value: 0.7621111111111111.\n",
      "[I 2025-03-22 17:05:45,910] Trial 9 pruned. \n",
      "[I 2025-03-22 17:08:05,233] Trial 10 finished with value: 0.756 and parameters: {'num_layers': 3, 'hidden_dim': 256, 'dropout': 0.23993220332416726, 'lr': 0.009636019774912272, 'batch_size': 128, 'weight_decay': 0.00017137082775999757, 'num_epochs': 8, 'grad_clip': 1.4590744241961588}. Best is trial 4 with value: 0.7621111111111111.\n",
      "[I 2025-03-22 17:10:24,628] Trial 11 finished with value: 0.7702222222222223 and parameters: {'num_layers': 3, 'hidden_dim': 256, 'dropout': 0.2247206900151345, 'lr': 0.009091036175481425, 'batch_size': 128, 'weight_decay': 0.0001373613031112612, 'num_epochs': 8, 'grad_clip': 1.4901947031145073}. Best is trial 11 with value: 0.7702222222222223.\n",
      "[I 2025-03-22 17:12:43,771] Trial 12 finished with value: 0.7615555555555555 and parameters: {'num_layers': 3, 'hidden_dim': 256, 'dropout': 0.2550532635802257, 'lr': 0.0073908199604197046, 'batch_size': 128, 'weight_decay': 0.00010299849659540138, 'num_epochs': 8, 'grad_clip': 1.3390783823648902}. Best is trial 11 with value: 0.7702222222222223.\n",
      "[I 2025-03-22 17:15:19,990] Trial 13 finished with value: 0.7613333333333333 and parameters: {'num_layers': 3, 'hidden_dim': 256, 'dropout': 0.4709538295554655, 'lr': 0.003145906749193897, 'batch_size': 128, 'weight_decay': 7.190389603446516e-05, 'num_epochs': 9, 'grad_clip': 1.0663743745564322}. Best is trial 11 with value: 0.7702222222222223.\n",
      "[I 2025-03-22 17:15:42,546] Trial 14 pruned. \n",
      "[I 2025-03-22 17:16:33,827] Trial 15 pruned. \n",
      "[I 2025-03-22 17:16:56,441] Trial 16 pruned. \n",
      "[I 2025-03-22 17:19:29,781] Trial 17 pruned. \n",
      "[I 2025-03-22 17:19:38,796] Trial 18 pruned. \n",
      "[I 2025-03-22 17:22:45,505] Trial 19 finished with value: 0.7652222222222222 and parameters: {'num_layers': 3, 'hidden_dim': 128, 'dropout': 0.21911074431387093, 'lr': 0.005120561046563448, 'batch_size': 64, 'weight_decay': 3.3462443664633283e-06, 'num_epochs': 9, 'grad_clip': 1.2767132873135598}. Best is trial 11 with value: 0.7702222222222223.\n"
     ]
    },
    {
     "name": "stdout",
     "output_type": "stream",
     "text": [
      "Best Optuna Params: {'num_layers': 3, 'hidden_dim': 256, 'dropout': 0.2247206900151345, 'lr': 0.009091036175481425, 'batch_size': 128, 'weight_decay': 0.0001373613031112612, 'num_epochs': 8, 'grad_clip': 1.4901947031145073}\n"
     ]
    }
   ],
   "source": [
    "study = optuna.create_study(direction='maximize')\n",
    "study.optimize(objective, n_trials=20)\n",
    "print(\"Best Optuna Params:\", study.best_params)"
   ]
  },
  {
   "cell_type": "code",
   "execution_count": 23,
   "id": "dcf4e02d-041b-458d-a379-22c2a2ac7695",
   "metadata": {},
   "outputs": [],
   "source": [
    "best_params = study.best_params"
   ]
  },
  {
   "metadata": {},
   "cell_type": "markdown",
   "source": "# 11. Final Training with Best Parameters",
   "id": "405a76dfe78941ab"
  },
  {
   "cell_type": "code",
   "execution_count": 24,
   "id": "ca8c1f82-c24f-44a2-99b0-802fad9b8a84",
   "metadata": {},
   "outputs": [],
   "source": [
    "final_model = SentimentBiLSTM(\n",
    "    vocab_size=10001,\n",
    "    embed_dim=100,\n",
    "    output_dim=len(le.classes_),\n",
    "    pretrained_embeddings=embedding_matrix,\n",
    "    hidden_dim=best_params['hidden_dim'],\n",
    "    num_layers=best_params['num_layers'],\n",
    "    dropout=0\n",
    ").to(device)"
   ]
  },
  {
   "cell_type": "code",
   "execution_count": 25,
   "id": "1ea5ba96-fe3b-467d-b191-150d302888cc",
   "metadata": {},
   "outputs": [],
   "source": [
    "train_loader = create_dataloader(X_train, train_lengths, y_train, batch_size=best_params['batch_size'], shuffle=True)\n",
    "val_loader = create_dataloader(X_val, val_lengths, y_val, batch_size=best_params['batch_size'])\n",
    "test_loader = create_dataloader(X_test, test_lengths, y_test, batch_size=best_params['batch_size'])"
   ]
  },
  {
   "cell_type": "code",
   "execution_count": 26,
   "id": "15396249-dfba-4f06-9282-f8e638591967",
   "metadata": {},
   "outputs": [],
   "source": [
    "optimizer = optim.AdamW(final_model.parameters(), lr=best_params['lr'], weight_decay=best_params['weight_decay'])\n",
    "criterion = nn.CrossEntropyLoss()"
   ]
  },
  {
   "cell_type": "code",
   "execution_count": 27,
   "id": "10e19a74-1962-4f65-a03f-83badc2bfd46",
   "metadata": {},
   "outputs": [
    {
     "name": "stdout",
     "output_type": "stream",
     "text": [
      "Epoch 1: Train Loss: 0.7834 | Val Acc: 0.7114\n",
      "Epoch 2: Train Loss: 0.6035 | Val Acc: 0.7301\n",
      "Epoch 3: Train Loss: 0.5080 | Val Acc: 0.7388\n",
      "Epoch 4: Train Loss: 0.4273 | Val Acc: 0.7312\n",
      "Epoch 5: Train Loss: 0.3680 | Val Acc: 0.7387\n",
      "Epoch 6: Train Loss: 0.3306 | Val Acc: 0.7397\n",
      "Epoch 7: Train Loss: 0.2990 | Val Acc: 0.7378\n",
      "Epoch 8: Train Loss: 0.2700 | Val Acc: 0.7399\n"
     ]
    }
   ],
   "source": [
    "num_epochs = best_params['num_epochs']\n",
    "train_losses = []\n",
    "val_accuracies = []\n",
    "\n",
    "for epoch in range(num_epochs):\n",
    "    train_loss, train_acc = train(final_model, train_loader, optimizer, criterion, device)\n",
    "    val_loss, val_acc = evaluate(final_model, val_loader, criterion, device)\n",
    "    train_losses.append(train_loss)\n",
    "    val_accuracies.append(val_acc)\n",
    "    print(f'Epoch {epoch+1}: Train Loss: {train_loss:.4f} | Val Acc: {val_acc:.4f}')"
   ]
  },
  {
   "metadata": {},
   "cell_type": "markdown",
   "source": "# 12. Training Graphs",
   "id": "ceb256c90539aeac"
  },
  {
   "cell_type": "code",
   "execution_count": 28,
   "id": "299fd608-e768-4096-afd0-2942ef97c026",
   "metadata": {},
   "outputs": [
    {
     "data": {
      "image/png": "[encoded data removed]",
      "text/plain": [
       "<Figure size 1200x500 with 2 Axes>"
      ]
     },
     "metadata": {},
     "output_type": "display_data"
    }
   ],
   "source": [
    "plt.figure(figsize=(12, 5))\n",
    "plt.subplot(1, 2, 1)\n",
    "plt.plot(range(1, num_epochs+1), train_losses, marker='o', label='Train Loss', color='blue')\n",
    "plt.title('Training Loss Over Epochs')\n",
    "plt.xlabel('Epoch')\n",
    "plt.ylabel('Loss')\n",
    "plt.legend()\n",
    "\n",
    "plt.subplot(1, 2, 2)\n",
    "plt.plot(range(1, num_epochs+1), val_accuracies, marker='o', label='Validation Accuracy', color='green')\n",
    "plt.title('Validation Accuracy Over Epochs')\n",
    "plt.xlabel('Epoch')\n",
    "plt.ylabel('Accuracy')\n",
    "plt.legend()\n",
    "\n",
    "plt.tight_layout()\n",
    "plt.show()"
   ]
  },
  {
   "metadata": {},
   "cell_type": "markdown",
   "source": "# 13. Final Evaluation",
   "id": "f820a31faddd4049"
  },
  {
   "cell_type": "code",
   "execution_count": 29,
   "id": "8d8fa5c3-dcac-40d7-8dc8-57cc9570ff40",
   "metadata": {},
   "outputs": [
    {
     "name": "stdout",
     "output_type": "stream",
     "text": [
      "\n",
      "Test Loss: 0.8290 | Test Accuracy: 0.7460 | F1: 0.7463 | Precision: 0.7495 | Recall: 0.7460\n"
     ]
    },
    {
     "data": {
      "image/png": "[encoded data removed]",
      "text/plain": [
       "<Figure size 800x600 with 2 Axes>"
      ]
     },
     "metadata": {},
     "output_type": "display_data"
    }
   ],
   "source": [
    "test_loss, test_acc = evaluate(final_model, test_loader, criterion, device)\n",
    "cm, acc, f1, precision, recall = evaluate_metrics(final_model, test_loader, device)\n",
    "print(f'\\nTest Loss: {test_loss:.4f} | Test Accuracy: {acc:.4f} | F1: {f1:.4f} | Precision: {precision:.4f} | Recall: {recall:.4f}')\n",
    "\n",
    "plt.figure(figsize=(8, 6))\n",
    "sns.heatmap(cm, annot=True, fmt='d', cmap='Blues',\n",
    "            xticklabels=le.classes_,\n",
    "            yticklabels=le.classes_)\n",
    "plt.title(f'Confusion Matrix (Test Acc: {acc:.2%})')\n",
    "plt.xlabel('Predicted Label')\n",
    "plt.ylabel('True Label')\n",
    "plt.show()"
   ]
  }
 ],
 "metadata": {
  "kernelspec": {
   "display_name": "Python 3 (ipykernel)",
   "language": "python",
   "name": "python3"
  },
  "language_info": {
   "codemirror_mode": {
    "name": "ipython",
    "version": 3
   },
   "file_extension": ".py",
   "mimetype": "text/x-python",
   "name": "python",
   "nbconvert_exporter": "python",
   "pygments_lexer": "ipython3",
   "version": "3.8.20"
  }
 },
 "nbformat": 4,
 "nbformat_minor": 5
}
